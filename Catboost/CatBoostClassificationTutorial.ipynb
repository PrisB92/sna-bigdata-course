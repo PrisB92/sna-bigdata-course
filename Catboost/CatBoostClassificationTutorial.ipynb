{
 "cells": [
  {
   "cell_type": "markdown",
   "metadata": {},
   "source": [
    "# Python Catboost Tutorial - Binary Classification"
   ]
  },
  {
   "cell_type": "markdown",
   "metadata": {},
   "source": [
    "Adapted from the Catboost <a href=\"https://github.com/catboost\" target=\"_blank\" >repository</a>."
   ]
  },
  {
   "cell_type": "markdown",
   "metadata": {},
   "source": [
    "### CatBoost installation\n",
    "If you have not already installed CatBoost: <br>\n",
    "pip install --upgrade catboost\n"
   ]
  },
  {
   "cell_type": "markdown",
   "metadata": {},
   "source": [
    "### Data Loading"
   ]
  },
  {
   "cell_type": "code",
   "execution_count": 63,
   "metadata": {},
   "outputs": [],
   "source": [
    "from catboost import CatBoostClassifier, Pool, cv\n",
    "from catboost.eval.catboost_evaluation import *\n",
    "\n",
    "import numpy as np\n",
    "import pandas as pd\n",
    "from collections import Counter\n",
    "from itertools import product\n",
    "\n",
    "from sklearn.model_selection import train_test_split\n",
    "from sklearn.metrics import accuracy_score, cohen_kappa_score, confusion_matrix, classification_report\n",
    "\n",
    "from imblearn.over_sampling import SMOTE, SMOTENC"
   ]
  },
  {
   "cell_type": "code",
   "execution_count": 3,
   "metadata": {},
   "outputs": [
    {
     "name": "stdout",
     "output_type": "stream",
     "text": [
      "DF shape (891, 9)\n"
     ]
    },
    {
     "data": {
      "text/html": [
       "<div>\n",
       "<style scoped>\n",
       "    .dataframe tbody tr th:only-of-type {\n",
       "        vertical-align: middle;\n",
       "    }\n",
       "\n",
       "    .dataframe tbody tr th {\n",
       "        vertical-align: top;\n",
       "    }\n",
       "\n",
       "    .dataframe thead th {\n",
       "        text-align: right;\n",
       "    }\n",
       "</style>\n",
       "<table border=\"1\" class=\"dataframe\">\n",
       "  <thead>\n",
       "    <tr style=\"text-align: right;\">\n",
       "      <th></th>\n",
       "      <th>Survived</th>\n",
       "      <th>Pclass</th>\n",
       "      <th>Sex</th>\n",
       "      <th>Age</th>\n",
       "      <th>SibSp</th>\n",
       "      <th>Parch</th>\n",
       "      <th>Fare</th>\n",
       "      <th>Cabin</th>\n",
       "      <th>Embarked</th>\n",
       "    </tr>\n",
       "  </thead>\n",
       "  <tbody>\n",
       "    <tr>\n",
       "      <td>0</td>\n",
       "      <td>0</td>\n",
       "      <td>3</td>\n",
       "      <td>male</td>\n",
       "      <td>22.0</td>\n",
       "      <td>1</td>\n",
       "      <td>0</td>\n",
       "      <td>7.2500</td>\n",
       "      <td>NaN</td>\n",
       "      <td>S</td>\n",
       "    </tr>\n",
       "    <tr>\n",
       "      <td>1</td>\n",
       "      <td>1</td>\n",
       "      <td>1</td>\n",
       "      <td>female</td>\n",
       "      <td>38.0</td>\n",
       "      <td>1</td>\n",
       "      <td>0</td>\n",
       "      <td>71.2833</td>\n",
       "      <td>C85</td>\n",
       "      <td>C</td>\n",
       "    </tr>\n",
       "    <tr>\n",
       "      <td>2</td>\n",
       "      <td>1</td>\n",
       "      <td>3</td>\n",
       "      <td>female</td>\n",
       "      <td>26.0</td>\n",
       "      <td>0</td>\n",
       "      <td>0</td>\n",
       "      <td>7.9250</td>\n",
       "      <td>NaN</td>\n",
       "      <td>S</td>\n",
       "    </tr>\n",
       "    <tr>\n",
       "      <td>3</td>\n",
       "      <td>1</td>\n",
       "      <td>1</td>\n",
       "      <td>female</td>\n",
       "      <td>35.0</td>\n",
       "      <td>1</td>\n",
       "      <td>0</td>\n",
       "      <td>53.1000</td>\n",
       "      <td>C123</td>\n",
       "      <td>S</td>\n",
       "    </tr>\n",
       "    <tr>\n",
       "      <td>4</td>\n",
       "      <td>0</td>\n",
       "      <td>3</td>\n",
       "      <td>male</td>\n",
       "      <td>35.0</td>\n",
       "      <td>0</td>\n",
       "      <td>0</td>\n",
       "      <td>8.0500</td>\n",
       "      <td>NaN</td>\n",
       "      <td>S</td>\n",
       "    </tr>\n",
       "  </tbody>\n",
       "</table>\n",
       "</div>"
      ],
      "text/plain": [
       "   Survived  Pclass     Sex   Age  SibSp  Parch     Fare Cabin Embarked\n",
       "0         0       3    male  22.0      1      0   7.2500   NaN        S\n",
       "1         1       1  female  38.0      1      0  71.2833   C85        C\n",
       "2         1       3  female  26.0      0      0   7.9250   NaN        S\n",
       "3         1       1  female  35.0      1      0  53.1000  C123        S\n",
       "4         0       3    male  35.0      0      0   8.0500   NaN        S"
      ]
     },
     "execution_count": 3,
     "metadata": {},
     "output_type": "execute_result"
    }
   ],
   "source": [
    "#Import Data\n",
    "df = pd.read_csv(\"titanic.csv\")\n",
    "\n",
    "#See the imported dataset\n",
    "print(\"DF shape\", df.shape)\n",
    "df.head()\n"
   ]
  },
  {
   "cell_type": "markdown",
   "metadata": {},
   "source": [
    "### Feature Preparation\n",
    "First of all let's check how many missing values do we have:"
   ]
  },
  {
   "cell_type": "code",
   "execution_count": 4,
   "metadata": {},
   "outputs": [
    {
     "data": {
      "text/plain": [
       "Survived      0\n",
       "Pclass        0\n",
       "Sex           0\n",
       "Age         177\n",
       "SibSp         0\n",
       "Parch         0\n",
       "Fare          0\n",
       "Cabin       687\n",
       "Embarked      2\n",
       "dtype: int64"
      ]
     },
     "execution_count": 4,
     "metadata": {},
     "output_type": "execute_result"
    }
   ],
   "source": [
    "df.isnull().sum()"
   ]
  },
  {
   "cell_type": "markdown",
   "metadata": {},
   "source": [
    "As we cat see, **`Age`**, **`Cabin`** and **`Embarked`** indeed have some missing values, so let's fill them with some number way out of their distributions - so the model would be able to easily distinguish between them and take it into account:"
   ]
  },
  {
   "cell_type": "code",
   "execution_count": 6,
   "metadata": {},
   "outputs": [
    {
     "data": {
      "text/plain": [
       "Survived    0\n",
       "Pclass      0\n",
       "Sex         0\n",
       "Age         0\n",
       "SibSp       0\n",
       "Parch       0\n",
       "Fare        0\n",
       "Cabin       0\n",
       "Embarked    0\n",
       "dtype: int64"
      ]
     },
     "execution_count": 6,
     "metadata": {},
     "output_type": "execute_result"
    }
   ],
   "source": [
    "df.fillna(-999, inplace=True)\n",
    "df.isnull().sum()"
   ]
  },
  {
   "cell_type": "markdown",
   "metadata": {},
   "source": [
    "Now let's separate features and label variable:"
   ]
  },
  {
   "cell_type": "code",
   "execution_count": 7,
   "metadata": {},
   "outputs": [],
   "source": [
    "X = df.drop('Survived', axis=1)\n",
    "y = df.Survived"
   ]
  },
  {
   "cell_type": "markdown",
   "metadata": {},
   "source": [
    "Pay attention that our features are of differnt types - some of them are numeric, some are categorical, and some are even just strings, which normally should be handled in some specific way (for example encoded with bag-of-words representation). "
   ]
  },
  {
   "cell_type": "code",
   "execution_count": 8,
   "metadata": {},
   "outputs": [
    {
     "name": "stdout",
     "output_type": "stream",
     "text": [
      "Pclass        int64\n",
      "Sex          object\n",
      "Age         float64\n",
      "SibSp         int64\n",
      "Parch         int64\n",
      "Fare        float64\n",
      "Cabin        object\n",
      "Embarked     object\n",
      "dtype: object\n"
     ]
    },
    {
     "data": {
      "text/plain": [
       "array([0, 1, 3, 4, 6, 7], dtype=int64)"
      ]
     },
     "execution_count": 8,
     "metadata": {},
     "output_type": "execute_result"
    }
   ],
   "source": [
    "print(X.dtypes)\n",
    "\n",
    "categorical_features_indices = np.where(X.dtypes != np.float)[0]\n",
    "categorical_features_indices"
   ]
  },
  {
   "cell_type": "markdown",
   "metadata": {},
   "source": [
    "#### Encode Strings\n",
    "Not strictly necessary in Catboost, but useful for example for SMOTE."
   ]
  },
  {
   "cell_type": "code",
   "execution_count": 32,
   "metadata": {},
   "outputs": [
    {
     "data": {
      "text/html": [
       "<div>\n",
       "<style scoped>\n",
       "    .dataframe tbody tr th:only-of-type {\n",
       "        vertical-align: middle;\n",
       "    }\n",
       "\n",
       "    .dataframe tbody tr th {\n",
       "        vertical-align: top;\n",
       "    }\n",
       "\n",
       "    .dataframe thead th {\n",
       "        text-align: right;\n",
       "    }\n",
       "</style>\n",
       "<table border=\"1\" class=\"dataframe\">\n",
       "  <thead>\n",
       "    <tr style=\"text-align: right;\">\n",
       "      <th></th>\n",
       "      <th>Pclass</th>\n",
       "      <th>Sex</th>\n",
       "      <th>Age</th>\n",
       "      <th>SibSp</th>\n",
       "      <th>Parch</th>\n",
       "      <th>Fare</th>\n",
       "      <th>Cabin</th>\n",
       "      <th>Embarked</th>\n",
       "    </tr>\n",
       "  </thead>\n",
       "  <tbody>\n",
       "    <tr>\n",
       "      <td>0</td>\n",
       "      <td>3</td>\n",
       "      <td>1</td>\n",
       "      <td>22.0</td>\n",
       "      <td>1</td>\n",
       "      <td>0</td>\n",
       "      <td>7.2500</td>\n",
       "      <td>0</td>\n",
       "      <td>3</td>\n",
       "    </tr>\n",
       "    <tr>\n",
       "      <td>1</td>\n",
       "      <td>1</td>\n",
       "      <td>0</td>\n",
       "      <td>38.0</td>\n",
       "      <td>1</td>\n",
       "      <td>0</td>\n",
       "      <td>71.2833</td>\n",
       "      <td>82</td>\n",
       "      <td>1</td>\n",
       "    </tr>\n",
       "    <tr>\n",
       "      <td>2</td>\n",
       "      <td>3</td>\n",
       "      <td>0</td>\n",
       "      <td>26.0</td>\n",
       "      <td>0</td>\n",
       "      <td>0</td>\n",
       "      <td>7.9250</td>\n",
       "      <td>0</td>\n",
       "      <td>3</td>\n",
       "    </tr>\n",
       "    <tr>\n",
       "      <td>3</td>\n",
       "      <td>1</td>\n",
       "      <td>0</td>\n",
       "      <td>35.0</td>\n",
       "      <td>1</td>\n",
       "      <td>0</td>\n",
       "      <td>53.1000</td>\n",
       "      <td>56</td>\n",
       "      <td>3</td>\n",
       "    </tr>\n",
       "    <tr>\n",
       "      <td>4</td>\n",
       "      <td>3</td>\n",
       "      <td>1</td>\n",
       "      <td>35.0</td>\n",
       "      <td>0</td>\n",
       "      <td>0</td>\n",
       "      <td>8.0500</td>\n",
       "      <td>0</td>\n",
       "      <td>3</td>\n",
       "    </tr>\n",
       "  </tbody>\n",
       "</table>\n",
       "</div>"
      ],
      "text/plain": [
       "   Pclass  Sex   Age  SibSp  Parch     Fare  Cabin  Embarked\n",
       "0       3    1  22.0      1      0   7.2500      0         3\n",
       "1       1    0  38.0      1      0  71.2833     82         1\n",
       "2       3    0  26.0      0      0   7.9250      0         3\n",
       "3       1    0  35.0      1      0  53.1000     56         3\n",
       "4       3    1  35.0      0      0   8.0500      0         3"
      ]
     },
     "execution_count": 32,
     "metadata": {},
     "output_type": "execute_result"
    }
   ],
   "source": [
    "for var in ['Sex', 'Cabin', 'Embarked']:\n",
    "    X[var] = X[var].astype('category').cat.codes\n",
    "X.head()"
   ]
  },
  {
   "cell_type": "markdown",
   "metadata": {},
   "source": [
    "### Data Splitting\n",
    "Let's split the train data into training and validation sets."
   ]
  },
  {
   "cell_type": "code",
   "execution_count": 38,
   "metadata": {},
   "outputs": [],
   "source": [
    "X_train, X_test, y_train, y_test = train_test_split(X, y, train_size=0.75, random_state=14)"
   ]
  },
  {
   "cell_type": "markdown",
   "metadata": {},
   "source": [
    "### SMOTE\n",
    "Check if target var has balanced classes and use SMOTE if needed (**only on Train Set**)."
   ]
  },
  {
   "cell_type": "code",
   "execution_count": 35,
   "metadata": {},
   "outputs": [
    {
     "data": {
      "text/plain": [
       "Counter({0: 410, 1: 258})"
      ]
     },
     "execution_count": 35,
     "metadata": {},
     "output_type": "execute_result"
    }
   ],
   "source": [
    "Counter(np.array(y_train).ravel())"
   ]
  },
  {
   "cell_type": "code",
   "execution_count": 39,
   "metadata": {},
   "outputs": [
    {
     "data": {
      "text/plain": [
       "Counter({0: 410, 1: 410})"
      ]
     },
     "execution_count": 39,
     "metadata": {},
     "output_type": "execute_result"
    }
   ],
   "source": [
    "#Apply SMOTENC, since you have categorical variables\n",
    "sm = SMOTENC(categorical_features=categorical_features_indices, random_state = 14, n_jobs=-1)\n",
    "\n",
    "#Save column names\n",
    "xcol = list(X_train.columns)\n",
    "ycol = y_train.name\n",
    "\n",
    "#Apply SMOTE and convert back to Pandas\n",
    "X_train, y_train = sm.fit_resample(X_train, np.array(y_train).ravel())\n",
    "X_train = pd.DataFrame(X_train, columns= xcol)\n",
    "y_train = pd.DataFrame(y_train, columns= [ycol])\n",
    "\n",
    "#Check new class balance\n",
    "Counter(np.array(y_train).ravel())"
   ]
  },
  {
   "cell_type": "markdown",
   "metadata": {},
   "source": [
    "### Parameters Tuning"
   ]
  },
  {
   "cell_type": "code",
   "execution_count": 43,
   "metadata": {},
   "outputs": [
    {
     "name": "stdout",
     "output_type": "stream",
     "text": [
      "# Combinations: 60\n"
     ]
    }
   ],
   "source": [
    "#Define a grid of parameters to test\n",
    "grid = {'learning_rate': [0.01, 0.03, 0.1, 0.2],\n",
    "        'depth': [4, 6, 10],\n",
    "        'l2_leaf_reg': [1, 3, 5, 7, 9],\n",
    "        }\n",
    "\n",
    "#Count all possible combinations\n",
    "print(\"# Combinations:\", len([dict(zip(grid.keys(),v)) for v in product(*grid.values())]))"
   ]
  },
  {
   "cell_type": "code",
   "execution_count": 46,
   "metadata": {},
   "outputs": [
    {
     "name": "stdout",
     "output_type": "stream",
     "text": [
      "0:\tloss: 0.3304858\tbest: 0.3304858 (0)\ttotal: 1.02s\tremaining: 1m\n",
      "1:\tloss: 0.3226414\tbest: 0.3226414 (1)\ttotal: 1.87s\tremaining: 54.2s\n",
      "2:\tloss: 0.3296104\tbest: 0.3226414 (1)\ttotal: 2.66s\tremaining: 50.6s\n",
      "3:\tloss: 0.3331585\tbest: 0.3226414 (1)\ttotal: 3.48s\tremaining: 48.7s\n",
      "4:\tloss: 0.3356785\tbest: 0.3226414 (1)\ttotal: 4.24s\tremaining: 46.6s\n",
      "5:\tloss: 0.3302601\tbest: 0.3226414 (1)\ttotal: 5.03s\tremaining: 45.2s\n",
      "6:\tloss: 0.3311892\tbest: 0.3226414 (1)\ttotal: 5.81s\tremaining: 44s\n",
      "7:\tloss: 0.3325525\tbest: 0.3226414 (1)\ttotal: 6.58s\tremaining: 42.8s\n",
      "8:\tloss: 0.3403906\tbest: 0.3226414 (1)\ttotal: 7.35s\tremaining: 41.6s\n",
      "9:\tloss: 0.3278574\tbest: 0.3226414 (1)\ttotal: 8.14s\tremaining: 40.7s\n",
      "10:\tloss: 0.3280204\tbest: 0.3226414 (1)\ttotal: 8.9s\tremaining: 39.6s\n",
      "11:\tloss: 0.3287230\tbest: 0.3226414 (1)\ttotal: 9.69s\tremaining: 38.7s\n",
      "12:\tloss: 0.3419757\tbest: 0.3226414 (1)\ttotal: 10.5s\tremaining: 37.8s\n",
      "13:\tloss: 0.3321732\tbest: 0.3226414 (1)\ttotal: 11.3s\tremaining: 37.2s\n",
      "14:\tloss: 0.3231395\tbest: 0.3226414 (1)\ttotal: 12.1s\tremaining: 36.4s\n",
      "15:\tloss: 0.3216420\tbest: 0.3216420 (15)\ttotal: 12.9s\tremaining: 35.5s\n",
      "16:\tloss: 0.3422520\tbest: 0.3216420 (15)\ttotal: 13.7s\tremaining: 34.6s\n",
      "17:\tloss: 0.3330287\tbest: 0.3216420 (15)\ttotal: 14.5s\tremaining: 33.8s\n",
      "18:\tloss: 0.3344693\tbest: 0.3216420 (15)\ttotal: 15.3s\tremaining: 33s\n",
      "19:\tloss: 0.3297142\tbest: 0.3216420 (15)\ttotal: 16.1s\tremaining: 32.1s\n",
      "20:\tloss: 0.3088449\tbest: 0.3088449 (20)\ttotal: 17.2s\tremaining: 31.9s\n",
      "21:\tloss: 0.3135634\tbest: 0.3088449 (20)\ttotal: 18.3s\tremaining: 31.7s\n",
      "22:\tloss: 0.3050610\tbest: 0.3050610 (22)\ttotal: 19.5s\tremaining: 31.4s\n",
      "23:\tloss: 0.3129903\tbest: 0.3050610 (22)\ttotal: 20.7s\tremaining: 31s\n",
      "24:\tloss: 0.3130890\tbest: 0.3050610 (22)\ttotal: 21.8s\tremaining: 30.6s\n",
      "25:\tloss: 0.3154754\tbest: 0.3050610 (22)\ttotal: 23.2s\tremaining: 30.3s\n",
      "26:\tloss: 0.3172188\tbest: 0.3050610 (22)\ttotal: 24.4s\tremaining: 29.8s\n",
      "27:\tloss: 0.3175455\tbest: 0.3050610 (22)\ttotal: 25.6s\tremaining: 29.3s\n",
      "28:\tloss: 0.3153575\tbest: 0.3050610 (22)\ttotal: 26.8s\tremaining: 28.6s\n",
      "29:\tloss: 0.3142253\tbest: 0.3050610 (22)\ttotal: 28s\tremaining: 28s\n",
      "30:\tloss: 0.3174109\tbest: 0.3050610 (22)\ttotal: 29.4s\tremaining: 27.5s\n",
      "31:\tloss: 0.3156930\tbest: 0.3050610 (22)\ttotal: 30.6s\tremaining: 26.8s\n",
      "32:\tloss: 0.3232226\tbest: 0.3050610 (22)\ttotal: 32s\tremaining: 26.2s\n",
      "33:\tloss: 0.3159295\tbest: 0.3050610 (22)\ttotal: 33.3s\tremaining: 25.4s\n",
      "34:\tloss: 0.3178013\tbest: 0.3050610 (22)\ttotal: 34.5s\tremaining: 24.6s\n",
      "35:\tloss: 0.3105465\tbest: 0.3050610 (22)\ttotal: 35.7s\tremaining: 23.8s\n",
      "36:\tloss: 0.3253821\tbest: 0.3050610 (22)\ttotal: 36.9s\tremaining: 22.9s\n",
      "37:\tloss: 0.3147172\tbest: 0.3050610 (22)\ttotal: 38.1s\tremaining: 22s\n",
      "38:\tloss: 0.3139991\tbest: 0.3050610 (22)\ttotal: 39.3s\tremaining: 21.2s\n",
      "39:\tloss: 0.3239748\tbest: 0.3050610 (22)\ttotal: 40.6s\tremaining: 20.3s\n",
      "40:\tloss: 0.3102431\tbest: 0.3050610 (22)\ttotal: 49.5s\tremaining: 22.9s\n",
      "41:\tloss: 0.3047909\tbest: 0.3047909 (41)\ttotal: 59.9s\tremaining: 25.7s\n",
      "42:\tloss: 0.2956475\tbest: 0.2956475 (42)\ttotal: 1m 10s\tremaining: 28s\n",
      "43:\tloss: 0.3149571\tbest: 0.2956475 (42)\ttotal: 1m 22s\tremaining: 29.9s\n",
      "44:\tloss: 0.3096233\tbest: 0.2956475 (42)\ttotal: 1m 31s\tremaining: 30.6s\n",
      "45:\tloss: 0.3066183\tbest: 0.2956475 (42)\ttotal: 1m 42s\tremaining: 31.3s\n",
      "46:\tloss: 0.3124540\tbest: 0.2956475 (42)\ttotal: 1m 54s\tremaining: 31.6s\n",
      "47:\tloss: 0.2972527\tbest: 0.2956475 (42)\ttotal: 2m 5s\tremaining: 31.5s\n",
      "48:\tloss: 0.3133715\tbest: 0.2956475 (42)\ttotal: 2m 15s\tremaining: 30.4s\n",
      "49:\tloss: 0.3079200\tbest: 0.2956475 (42)\ttotal: 2m 25s\tremaining: 29.2s\n",
      "50:\tloss: 0.3065554\tbest: 0.2956475 (42)\ttotal: 2m 36s\tremaining: 27.7s\n",
      "51:\tloss: 0.3120005\tbest: 0.2956475 (42)\ttotal: 2m 48s\tremaining: 25.9s\n",
      "52:\tloss: 0.3102938\tbest: 0.2956475 (42)\ttotal: 2m 57s\tremaining: 23.4s\n",
      "53:\tloss: 0.3067839\tbest: 0.2956475 (42)\ttotal: 3m 7s\tremaining: 20.9s\n",
      "54:\tloss: 0.3164111\tbest: 0.2956475 (42)\ttotal: 3m 19s\tremaining: 18.1s\n",
      "55:\tloss: 0.3218307\tbest: 0.2956475 (42)\ttotal: 3m 30s\tremaining: 15s\n",
      "56:\tloss: 0.3129465\tbest: 0.2956475 (42)\ttotal: 3m 40s\tremaining: 11.6s\n",
      "57:\tloss: 0.3106211\tbest: 0.2956475 (42)\ttotal: 3m 52s\tremaining: 8.01s\n",
      "58:\tloss: 0.3082056\tbest: 0.2956475 (42)\ttotal: 4m 4s\tremaining: 4.14s\n",
      "59:\tloss: 0.3255459\tbest: 0.2956475 (42)\ttotal: 4m 16s\tremaining: 0us\n",
      "Estimating final quality...\n"
     ]
    },
    {
     "data": {
      "text/plain": [
       "{'depth': 10, 'l2_leaf_reg': 1, 'learning_rate': 0.1}"
      ]
     },
     "execution_count": 46,
     "metadata": {},
     "output_type": "execute_result"
    }
   ],
   "source": [
    "#Define Model (could also use custom loss here)\n",
    "#custom_loss = [\"Accuracy\"]\n",
    "model = CatBoostClassifier()\n",
    "\n",
    "#Grid Search\n",
    "#Default cross-validation is 3-fold\n",
    "grid_search_result = model.grid_search(grid, X=X_train, y=y_train, cv=3)\n",
    "bestparam = grid_search_result[\"params\"]\n",
    "bestparam"
   ]
  },
  {
   "cell_type": "code",
   "execution_count": 77,
   "metadata": {},
   "outputs": [
    {
     "name": "stdout",
     "output_type": "stream",
     "text": [
      "{'depth': 10, 'l2_leaf_reg': 1, 'learning_rate': 0.1, 'eval_metric': 'Kappa', 'custom_loss': 'Kappa'}\n"
     ]
    }
   ],
   "source": [
    "#Set best params\n",
    "model = CatBoostClassifier()\n",
    "\n",
    "#Can define Custom Loss\n",
    "bestparam[\"custom_loss\"] = \"Kappa\"\n",
    "\n",
    "#Depending on your objective you can also customize the evaluation metric\n",
    "bestparam[\"eval_metric\"] = \"Kappa\"\n",
    "\n",
    "model.set_params(**bestparam)\n",
    "print(model.get_params())"
   ]
  },
  {
   "cell_type": "markdown",
   "metadata": {},
   "source": [
    "### Model Training\n",
    "Retaining the best model and with early stopping, to avoid overfit.\n",
    "**In real cases, we need an external test set, not used for training or validation (early stopping). That dataset is the one to be used to evaluate the final moldel.**"
   ]
  },
  {
   "cell_type": "code",
   "execution_count": 78,
   "metadata": {},
   "outputs": [
    {
     "name": "stdout",
     "output_type": "stream",
     "text": [
      "(820, 8) (615, 8) (205, 8)\n"
     ]
    }
   ],
   "source": [
    "#Furter split the train set into final_train and validation sets\n",
    "X_train_final, X_validation, y_train_final, y_validation = train_test_split(X_train, y_train,\\\n",
    "                                                                            train_size=0.75, random_state=14)\n",
    "\n",
    "print(X_train.shape, X_train_final.shape, X_validation.shape)"
   ]
  },
  {
   "cell_type": "markdown",
   "metadata": {},
   "source": [
    "Use early sotopping rounds and validation set, to stop after K iterations with no improvement of the evaluation metric."
   ]
  },
  {
   "cell_type": "code",
   "execution_count": 83,
   "metadata": {},
   "outputs": [
    {
     "name": "stdout",
     "output_type": "stream",
     "text": [
      "0:\tlearn: 0.4967700\ttest: 0.5181766\tbest: 0.5181766 (0)\ttotal: 16.3ms\tremaining: 16.3s\n",
      "1:\tlearn: 0.4967700\ttest: 0.5181766\tbest: 0.5181766 (0)\ttotal: 17.9ms\tremaining: 8.93s\n",
      "2:\tlearn: 0.5190213\ttest: 0.5181766\tbest: 0.5181766 (0)\ttotal: 34.2ms\tremaining: 11.4s\n",
      "3:\tlearn: 0.5190213\ttest: 0.5181766\tbest: 0.5181766 (0)\ttotal: 36ms\tremaining: 8.96s\n",
      "4:\tlearn: 0.5703099\ttest: 0.6179696\tbest: 0.6179696 (4)\ttotal: 64.5ms\tremaining: 12.8s\n",
      "5:\tlearn: 0.5691612\ttest: 0.6179696\tbest: 0.6179696 (4)\ttotal: 83.2ms\tremaining: 13.8s\n",
      "6:\tlearn: 0.5703099\ttest: 0.6203058\tbest: 0.6203058 (6)\ttotal: 84.1ms\tremaining: 11.9s\n",
      "7:\tlearn: 0.5972594\ttest: 0.6203058\tbest: 0.6203058 (6)\ttotal: 106ms\tremaining: 13.1s\n",
      "8:\tlearn: 0.6128868\ttest: 0.5718635\tbest: 0.6203058 (6)\ttotal: 131ms\tremaining: 14.4s\n",
      "9:\tlearn: 0.6243533\ttest: 0.5718635\tbest: 0.6203058 (6)\ttotal: 138ms\tremaining: 13.6s\n",
      "10:\tlearn: 0.5960022\ttest: 0.5393477\tbest: 0.6203058 (6)\ttotal: 147ms\tremaining: 13.2s\n",
      "11:\tlearn: 0.6002128\ttest: 0.5122505\tbest: 0.6203058 (6)\ttotal: 148ms\tremaining: 12.2s\n",
      "12:\tlearn: 0.6213080\ttest: 0.5272948\tbest: 0.6203058 (6)\ttotal: 163ms\tremaining: 12.4s\n",
      "13:\tlearn: 0.6525268\ttest: 0.5272948\tbest: 0.6203058 (6)\ttotal: 193ms\tremaining: 13.6s\n",
      "14:\tlearn: 0.6567624\ttest: 0.5272948\tbest: 0.6203058 (6)\ttotal: 217ms\tremaining: 14.2s\n",
      "15:\tlearn: 0.6721878\ttest: 0.5272948\tbest: 0.6203058 (6)\ttotal: 227ms\tremaining: 14s\n",
      "16:\tlearn: 0.7162316\ttest: 0.5451050\tbest: 0.6203058 (6)\ttotal: 256ms\tremaining: 14.8s\n",
      "17:\tlearn: 0.7312580\ttest: 0.5571004\tbest: 0.6203058 (6)\ttotal: 284ms\tremaining: 15.5s\n",
      "18:\tlearn: 0.7658600\ttest: 0.5571004\tbest: 0.6203058 (6)\ttotal: 309ms\tremaining: 15.9s\n",
      "19:\tlearn: 0.7707513\ttest: 0.5571004\tbest: 0.6203058 (6)\ttotal: 328ms\tremaining: 16.1s\n",
      "20:\tlearn: 0.7847879\ttest: 0.5571004\tbest: 0.6203058 (6)\ttotal: 352ms\tremaining: 16.4s\n",
      "21:\tlearn: 0.7896418\ttest: 0.5451050\tbest: 0.6203058 (6)\ttotal: 381ms\tremaining: 16.9s\n",
      "22:\tlearn: 0.7993117\ttest: 0.5598594\tbest: 0.6203058 (6)\ttotal: 411ms\tremaining: 17.4s\n",
      "23:\tlearn: 0.8132382\ttest: 0.5890944\tbest: 0.6203058 (6)\ttotal: 440ms\tremaining: 17.9s\n",
      "24:\tlearn: 0.8132382\ttest: 0.5890944\tbest: 0.6203058 (6)\ttotal: 441ms\tremaining: 17.2s\n",
      "25:\tlearn: 0.8084339\ttest: 0.6035765\tbest: 0.6203058 (6)\ttotal: 469ms\tremaining: 17.6s\n",
      "26:\tlearn: 0.8132382\ttest: 0.6179696\tbest: 0.6203058 (6)\ttotal: 503ms\tremaining: 18.1s\n",
      "27:\tlearn: 0.8271284\ttest: 0.6179696\tbest: 0.6203058 (6)\ttotal: 531ms\tremaining: 18.4s\n",
      "28:\tlearn: 0.8318960\ttest: 0.5916226\tbest: 0.6203058 (6)\ttotal: 541ms\tremaining: 18.1s\n",
      "29:\tlearn: 0.8318960\ttest: 0.5916226\tbest: 0.6203058 (6)\ttotal: 548ms\tremaining: 17.7s\n",
      "30:\tlearn: 0.8318960\ttest: 0.5916226\tbest: 0.6203058 (6)\ttotal: 552ms\tremaining: 17.3s\n",
      "31:\tlearn: 0.8318960\ttest: 0.6179696\tbest: 0.6203058 (6)\ttotal: 560ms\tremaining: 16.9s\n",
      "32:\tlearn: 0.8318960\ttest: 0.6060082\tbest: 0.6203058 (6)\ttotal: 590ms\tremaining: 17.3s\n",
      "33:\tlearn: 0.8318960\ttest: 0.6060082\tbest: 0.6203058 (6)\ttotal: 594ms\tremaining: 16.9s\n",
      "34:\tlearn: 0.8318960\ttest: 0.5916226\tbest: 0.6203058 (6)\ttotal: 595ms\tremaining: 16.4s\n",
      "35:\tlearn: 0.8318960\ttest: 0.5916226\tbest: 0.6203058 (6)\ttotal: 624ms\tremaining: 16.7s\n",
      "36:\tlearn: 0.8318960\ttest: 0.6179696\tbest: 0.6203058 (6)\ttotal: 647ms\tremaining: 16.8s\n",
      "37:\tlearn: 0.8318960\ttest: 0.6084102\tbest: 0.6203058 (6)\ttotal: 675ms\tremaining: 17.1s\n",
      "38:\tlearn: 0.8318960\ttest: 0.6084102\tbest: 0.6203058 (6)\ttotal: 676ms\tremaining: 16.7s\n",
      "39:\tlearn: 0.8318960\ttest: 0.6084102\tbest: 0.6203058 (6)\ttotal: 683ms\tremaining: 16.4s\n",
      "40:\tlearn: 0.8318960\ttest: 0.6226136\tbest: 0.6226136 (40)\ttotal: 708ms\tremaining: 16.6s\n",
      "41:\tlearn: 0.8318960\ttest: 0.6226136\tbest: 0.6226136 (40)\ttotal: 721ms\tremaining: 16.4s\n",
      "42:\tlearn: 0.8318960\ttest: 0.6367309\tbest: 0.6367309 (42)\ttotal: 754ms\tremaining: 16.8s\n",
      "43:\tlearn: 0.8318960\ttest: 0.6367309\tbest: 0.6367309 (42)\ttotal: 755ms\tremaining: 16.4s\n",
      "44:\tlearn: 0.8413940\ttest: 0.6785742\tbest: 0.6785742 (44)\ttotal: 776ms\tremaining: 16.5s\n",
      "45:\tlearn: 0.8508431\ttest: 0.6549323\tbest: 0.6785742 (44)\ttotal: 811ms\tremaining: 16.8s\n",
      "46:\tlearn: 0.8602435\ttest: 0.6410807\tbest: 0.6785742 (44)\ttotal: 839ms\tremaining: 17s\n",
      "47:\tlearn: 0.8602435\ttest: 0.6410807\tbest: 0.6785742 (44)\ttotal: 843ms\tremaining: 16.7s\n",
      "48:\tlearn: 0.8695957\ttest: 0.6785742\tbest: 0.6785742 (44)\ttotal: 874ms\tremaining: 17s\n",
      "49:\tlearn: 0.8695957\ttest: 0.6367309\tbest: 0.6785742 (44)\ttotal: 893ms\tremaining: 17s\n",
      "50:\tlearn: 0.8695957\ttest: 0.6248935\tbest: 0.6785742 (44)\ttotal: 922ms\tremaining: 17.2s\n",
      "51:\tlearn: 0.8788999\ttest: 0.6248935\tbest: 0.6785742 (44)\ttotal: 949ms\tremaining: 17.3s\n",
      "52:\tlearn: 0.8835342\ttest: 0.6107831\tbest: 0.6785742 (44)\ttotal: 984ms\tremaining: 17.6s\n",
      "53:\tlearn: 0.8927673\ttest: 0.6107831\tbest: 0.6785742 (44)\ttotal: 1.01s\tremaining: 17.7s\n",
      "54:\tlearn: 0.8927673\ttest: 0.6107831\tbest: 0.6785742 (44)\ttotal: 1.01s\tremaining: 17.3s\n",
      "55:\tlearn: 0.8927673\ttest: 0.6107831\tbest: 0.6785742 (44)\ttotal: 1.01s\tremaining: 17.1s\n",
      "56:\tlearn: 0.8835342\ttest: 0.6226136\tbest: 0.6785742 (44)\ttotal: 1.05s\tremaining: 17.3s\n",
      "57:\tlearn: 0.8835342\ttest: 0.6226136\tbest: 0.6785742 (44)\ttotal: 1.05s\tremaining: 17s\n",
      "58:\tlearn: 0.8881567\ttest: 0.6226136\tbest: 0.6785742 (44)\ttotal: 1.05s\tremaining: 16.7s\n",
      "59:\tlearn: 0.8927673\ttest: 0.6226136\tbest: 0.6785742 (44)\ttotal: 1.06s\tremaining: 16.7s\n",
      "60:\tlearn: 0.8927673\ttest: 0.6226136\tbest: 0.6785742 (44)\ttotal: 1.09s\tremaining: 16.8s\n",
      "61:\tlearn: 0.8927673\ttest: 0.6226136\tbest: 0.6785742 (44)\ttotal: 1.1s\tremaining: 16.6s\n",
      "62:\tlearn: 0.8973662\ttest: 0.5797421\tbest: 0.6785742 (44)\ttotal: 1.13s\tremaining: 16.7s\n",
      "63:\tlearn: 0.8927673\ttest: 0.5797421\tbest: 0.6785742 (44)\ttotal: 1.15s\tremaining: 16.9s\n",
      "64:\tlearn: 0.8927673\ttest: 0.5797421\tbest: 0.6785742 (44)\ttotal: 1.16s\tremaining: 16.7s\n",
      "65:\tlearn: 0.9065290\ttest: 0.5797421\tbest: 0.6785742 (44)\ttotal: 1.19s\tremaining: 16.8s\n",
      "66:\tlearn: 0.9065290\ttest: 0.5797421\tbest: 0.6785742 (44)\ttotal: 1.22s\tremaining: 16.9s\n",
      "67:\tlearn: 0.9110930\ttest: 0.5941200\tbest: 0.6785742 (44)\ttotal: 1.25s\tremaining: 17.1s\n",
      "68:\tlearn: 0.9110930\ttest: 0.5941200\tbest: 0.6785742 (44)\ttotal: 1.25s\tremaining: 16.9s\n",
      "69:\tlearn: 0.9201862\ttest: 0.5941200\tbest: 0.6785742 (44)\ttotal: 1.28s\tremaining: 17s\n",
      "70:\tlearn: 0.9247156\ttest: 0.5941200\tbest: 0.6785742 (44)\ttotal: 1.31s\tremaining: 17.2s\n",
      "71:\tlearn: 0.9247156\ttest: 0.5941200\tbest: 0.6785742 (44)\ttotal: 1.32s\tremaining: 17s\n",
      "72:\tlearn: 0.9247156\ttest: 0.5941200\tbest: 0.6785742 (44)\ttotal: 1.34s\tremaining: 17.1s\n",
      "73:\tlearn: 0.9247156\ttest: 0.5797421\tbest: 0.6785742 (44)\ttotal: 1.38s\tremaining: 17.3s\n",
      "74:\tlearn: 0.9247156\ttest: 0.5797421\tbest: 0.6785742 (44)\ttotal: 1.42s\tremaining: 17.5s\n",
      "75:\tlearn: 0.9290544\ttest: 0.6084102\tbest: 0.6785742 (44)\ttotal: 1.45s\tremaining: 17.6s\n",
      "76:\tlearn: 0.9290544\ttest: 0.6084102\tbest: 0.6785742 (44)\ttotal: 1.48s\tremaining: 17.8s\n",
      "77:\tlearn: 0.9290544\ttest: 0.6084102\tbest: 0.6785742 (44)\ttotal: 1.51s\tremaining: 17.9s\n",
      "78:\tlearn: 0.9290544\ttest: 0.6084102\tbest: 0.6785742 (44)\ttotal: 1.55s\tremaining: 18s\n",
      "79:\tlearn: 0.9335726\ttest: 0.6107831\tbest: 0.6785742 (44)\ttotal: 1.58s\tremaining: 18.2s\n",
      "80:\tlearn: 0.9335726\ttest: 0.6226136\tbest: 0.6785742 (44)\ttotal: 1.61s\tremaining: 18.3s\n",
      "81:\tlearn: 0.9335726\ttest: 0.6084102\tbest: 0.6785742 (44)\ttotal: 1.65s\tremaining: 18.4s\n",
      "82:\tlearn: 0.9380793\ttest: 0.5965869\tbest: 0.6785742 (44)\ttotal: 1.67s\tremaining: 18.5s\n",
      "83:\tlearn: 0.9380793\ttest: 0.6107831\tbest: 0.6785742 (44)\ttotal: 1.71s\tremaining: 18.6s\n",
      "84:\tlearn: 0.9380793\ttest: 0.6367309\tbest: 0.6785742 (44)\ttotal: 1.73s\tremaining: 18.6s\n",
      "85:\tlearn: 0.9380793\ttest: 0.6367309\tbest: 0.6785742 (44)\ttotal: 1.76s\tremaining: 18.7s\n",
      "86:\tlearn: 0.9425747\ttest: 0.6226136\tbest: 0.6785742 (44)\ttotal: 1.8s\tremaining: 18.9s\n",
      "87:\tlearn: 0.9470588\ttest: 0.6367309\tbest: 0.6785742 (44)\ttotal: 1.83s\tremaining: 19s\n",
      "88:\tlearn: 0.9470588\ttest: 0.6226136\tbest: 0.6785742 (44)\ttotal: 1.87s\tremaining: 19.2s\n",
      "89:\tlearn: 0.9470588\ttest: 0.6367309\tbest: 0.6785742 (44)\ttotal: 1.9s\tremaining: 19.3s\n",
      "90:\tlearn: 0.9470588\ttest: 0.6367309\tbest: 0.6785742 (44)\ttotal: 1.94s\tremaining: 19.4s\n",
      "91:\tlearn: 0.9470588\ttest: 0.6367309\tbest: 0.6785742 (44)\ttotal: 1.97s\tremaining: 19.4s\n",
      "92:\tlearn: 0.9470588\ttest: 0.6367309\tbest: 0.6785742 (44)\ttotal: 2.01s\tremaining: 19.6s\n",
      "93:\tlearn: 0.9470588\ttest: 0.6367309\tbest: 0.6785742 (44)\ttotal: 2.04s\tremaining: 19.6s\n",
      "94:\tlearn: 0.9515316\ttest: 0.6367309\tbest: 0.6785742 (44)\ttotal: 2.07s\tremaining: 19.7s\n",
      "95:\tlearn: 0.9604436\ttest: 0.6367309\tbest: 0.6785742 (44)\ttotal: 2.1s\tremaining: 19.8s\n",
      "96:\tlearn: 0.9604436\ttest: 0.6367309\tbest: 0.6785742 (44)\ttotal: 2.13s\tremaining: 19.8s\n",
      "97:\tlearn: 0.9604436\ttest: 0.6367309\tbest: 0.6785742 (44)\ttotal: 2.16s\tremaining: 19.9s\n",
      "98:\tlearn: 0.9693109\ttest: 0.6367309\tbest: 0.6785742 (44)\ttotal: 2.2s\tremaining: 20s\n",
      "99:\tlearn: 0.9693109\ttest: 0.6367309\tbest: 0.6785742 (44)\ttotal: 2.23s\tremaining: 20.1s\n"
     ]
    },
    {
     "name": "stdout",
     "output_type": "stream",
     "text": [
      "100:\tlearn: 0.9693109\ttest: 0.6248935\tbest: 0.6785742 (44)\ttotal: 2.27s\tremaining: 20.2s\n",
      "101:\tlearn: 0.9693109\ttest: 0.6248935\tbest: 0.6785742 (44)\ttotal: 2.31s\tremaining: 20.3s\n",
      "102:\tlearn: 0.9693109\ttest: 0.6248935\tbest: 0.6785742 (44)\ttotal: 2.33s\tremaining: 20.3s\n",
      "103:\tlearn: 0.9693109\ttest: 0.6248935\tbest: 0.6785742 (44)\ttotal: 2.37s\tremaining: 20.4s\n",
      "104:\tlearn: 0.9693109\ttest: 0.6248935\tbest: 0.6785742 (44)\ttotal: 2.4s\tremaining: 20.5s\n",
      "105:\tlearn: 0.9693109\ttest: 0.6248935\tbest: 0.6785742 (44)\ttotal: 2.42s\tremaining: 20.4s\n",
      "106:\tlearn: 0.9737279\ttest: 0.6248935\tbest: 0.6785742 (44)\ttotal: 2.46s\tremaining: 20.6s\n",
      "107:\tlearn: 0.9737279\ttest: 0.6248935\tbest: 0.6785742 (44)\ttotal: 2.5s\tremaining: 20.6s\n",
      "108:\tlearn: 0.9737279\ttest: 0.6248935\tbest: 0.6785742 (44)\ttotal: 2.53s\tremaining: 20.7s\n",
      "109:\tlearn: 0.9737279\ttest: 0.6248935\tbest: 0.6785742 (44)\ttotal: 2.56s\tremaining: 20.7s\n",
      "110:\tlearn: 0.9737279\ttest: 0.6248935\tbest: 0.6785742 (44)\ttotal: 2.59s\tremaining: 20.7s\n",
      "111:\tlearn: 0.9737279\ttest: 0.6248935\tbest: 0.6785742 (44)\ttotal: 2.62s\tremaining: 20.8s\n",
      "112:\tlearn: 0.9737279\ttest: 0.6248935\tbest: 0.6785742 (44)\ttotal: 2.65s\tremaining: 20.8s\n",
      "113:\tlearn: 0.9737279\ttest: 0.6248935\tbest: 0.6785742 (44)\ttotal: 2.69s\tremaining: 20.9s\n",
      "114:\tlearn: 0.9737279\ttest: 0.6248935\tbest: 0.6785742 (44)\ttotal: 2.73s\tremaining: 21s\n",
      "115:\tlearn: 0.9737279\ttest: 0.6248935\tbest: 0.6785742 (44)\ttotal: 2.76s\tremaining: 21s\n",
      "116:\tlearn: 0.9781339\ttest: 0.6248935\tbest: 0.6785742 (44)\ttotal: 2.78s\tremaining: 21s\n",
      "117:\tlearn: 0.9781339\ttest: 0.6248935\tbest: 0.6785742 (44)\ttotal: 2.81s\tremaining: 21s\n",
      "118:\tlearn: 0.9781339\ttest: 0.6248935\tbest: 0.6785742 (44)\ttotal: 2.84s\tremaining: 21s\n",
      "119:\tlearn: 0.9781339\ttest: 0.6248935\tbest: 0.6785742 (44)\ttotal: 2.87s\tremaining: 21.1s\n",
      "120:\tlearn: 0.9781339\ttest: 0.6248935\tbest: 0.6785742 (44)\ttotal: 2.9s\tremaining: 21s\n",
      "121:\tlearn: 0.9781339\ttest: 0.6248935\tbest: 0.6785742 (44)\ttotal: 2.93s\tremaining: 21.1s\n",
      "122:\tlearn: 0.9781339\ttest: 0.6248935\tbest: 0.6785742 (44)\ttotal: 2.97s\tremaining: 21.2s\n",
      "123:\tlearn: 0.9825289\ttest: 0.6248935\tbest: 0.6785742 (44)\ttotal: 3s\tremaining: 21.2s\n",
      "124:\tlearn: 0.9825289\ttest: 0.6248935\tbest: 0.6785742 (44)\ttotal: 3.02s\tremaining: 21.1s\n",
      "Stopped by overfitting detector  (80 iterations wait)\n",
      "\n",
      "bestTest = 0.6785741782\n",
      "bestIteration = 44\n",
      "\n",
      "Shrink model to first 45 iterations.\n"
     ]
    },
    {
     "data": {
      "text/plain": [
       "<catboost.core.CatBoostClassifier object at 0x0000015AADDFD4C8>"
      ]
     },
     "execution_count": 83,
     "metadata": {},
     "output_type": "execute_result"
    }
   ],
   "source": [
    "model.fit(X_train_final, y_train_final, cat_features=categorical_features_indices, eval_set=(X_validation, y_validation), \\\n",
    "                   early_stopping_rounds = 80, use_best_model=True, logging_level = \"Verbose\")\n"
   ]
  },
  {
   "cell_type": "markdown",
   "metadata": {},
   "source": [
    "With this we can see that the best **Kappa** value of **0.6786** (on validation set) was acheived at step **44** with no futher improvement after **80** iterations (so the training stopped). We now retain this model as the **best model**."
   ]
  },
  {
   "cell_type": "markdown",
   "metadata": {},
   "source": [
    "### Model Predictions and Fit"
   ]
  },
  {
   "cell_type": "code",
   "execution_count": 84,
   "metadata": {},
   "outputs": [
    {
     "name": "stdout",
     "output_type": "stream",
     "text": [
      "[[109  15]\n",
      " [ 29  70]]\n",
      "              precision    recall  f1-score   support\n",
      "\n",
      "           0       0.79      0.88      0.83       124\n",
      "           1       0.82      0.71      0.76        99\n",
      "\n",
      "    accuracy                           0.80       223\n",
      "   macro avg       0.81      0.79      0.80       223\n",
      "weighted avg       0.80      0.80      0.80       223\n",
      "\n",
      "ACCURACY: 0.8027\n",
      "COHEN'S KAPPA: 0.5946\n"
     ]
    }
   ],
   "source": [
    "#Predict on the original Test Set\n",
    "predictions = model.predict(X_test)\n",
    "truevalues = np.array(y_test)\n",
    "\n",
    "#Confusion Matrix\n",
    "print(confusion_matrix(truevalues,predictions))\n",
    "\n",
    "#Classificatiion Report\n",
    "print(classification_report(truevalues,predictions))\n",
    "\n",
    "#Cohen's Kappa\n",
    "print(\"ACCURACY:\", '%.4f' % accuracy_score(truevalues, predictions))\n",
    "print(\"COHEN'S KAPPA:\", '%.4f' % cohen_kappa_score(truevalues, predictions))"
   ]
  },
  {
   "cell_type": "markdown",
   "metadata": {},
   "source": [
    "### Monte Carlo Cross-Validation\n",
    "Now repeat the process 1,000 times and provide average fit statistics, with their standard deviation."
   ]
  },
  {
   "cell_type": "code",
   "execution_count": 100,
   "metadata": {},
   "outputs": [],
   "source": [
    "#Save accuracy and kappa scores in a list\n",
    "a,k = [], []\n",
    "\n",
    "#For demonstrational purposes we now reapet it 10 times\n",
    "for i in range(0,10):\n",
    "    #Split with no random seed in train, validation and test set\n",
    "    X_train, X_test, y_train, y_test = train_test_split(X, y, train_size=0.75)\n",
    "    X_train_final, X_validation, y_train_final, y_validation = train_test_split(X_train, y_train, train_size=0.75)\n",
    "    \n",
    "    model.fit(X_train_final, y_train_final, cat_features=categorical_features_indices, \\\n",
    "              eval_set=(X_validation, y_validation), early_stopping_rounds = 80, use_best_model=True, \\\n",
    "              logging_level = \"Silent\")\n",
    "    \n",
    "    predictions = model.predict(X_test)\n",
    "    truevalues = np.array(y_test)\n",
    "    \n",
    "    a.append(accuracy_score(truevalues, predictions))\n",
    "    k.append(cohen_kappa_score(truevalues, predictions))"
   ]
  },
  {
   "cell_type": "code",
   "execution_count": 104,
   "metadata": {},
   "outputs": [
    {
     "name": "stdout",
     "output_type": "stream",
     "text": [
      "Accuracy at each cross-validation step\n",
      " [0.8295964125560538, 0.7668161434977578, 0.8385650224215246, 0.820627802690583, 0.7982062780269058, 0.8026905829596412, 0.7533632286995515, 0.7892376681614349, 0.7757847533632287, 0.7937219730941704] \n",
      "\n",
      "Kappa at each cross-validation step\n",
      " [0.603165683244357, 0.514201927105153, 0.6309304891504229, 0.6216170357173157, 0.5795449784220891, 0.5622769450392576, 0.4923217020572044, 0.5526866117536597, 0.47613230595752676, 0.5587577426015141] \n",
      "\n",
      "Accuracy M 0.7969 SD 0.0259 \n",
      "\n",
      "Kappa M 0.5592 SD 0.0498\n"
     ]
    }
   ],
   "source": [
    "print(\"Accuracy at each cross-validation step\\n\", a, \"\\n\")\n",
    "print(\"Kappa at each cross-validation step\\n\", k, \"\\n\")\n",
    "print(\"Accuracy M\", '%.4f' % np.mean(a), \"SD\", '%.4f' % np.std(a), \"\\n\")\n",
    "print(\"Kappa M\", np.mean(k), \"SD\", '%.4f' % np.std(k))"
   ]
  }
 ],
 "metadata": {
  "kernelspec": {
   "display_name": "Python 3",
   "language": "python",
   "name": "python3"
  },
  "language_info": {
   "codemirror_mode": {
    "name": "ipython",
    "version": 3
   },
   "file_extension": ".py",
   "mimetype": "text/x-python",
   "name": "python",
   "nbconvert_exporter": "python",
   "pygments_lexer": "ipython3",
   "version": "3.7.4"
  },
  "widgets": {
   "state": {
    "c26d03b66add4e078d26695cab837033": {
     "views": [
      {
       "cell_index": 21
      }
     ]
    }
   },
   "version": "1.2.0"
  }
 },
 "nbformat": 4,
 "nbformat_minor": 2
}
