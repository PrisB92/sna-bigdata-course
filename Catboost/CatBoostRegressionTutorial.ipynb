{
 "cells": [
  {
   "cell_type": "markdown",
   "metadata": {},
   "source": [
    "# Python Catboost Tutorial - Regression"
   ]
  },
  {
   "cell_type": "markdown",
   "metadata": {},
   "source": [
    "Adapted from the Catboost <a href=\"https://github.com/catboost\" target=\"_blank\" >repository</a>."
   ]
  },
  {
   "cell_type": "markdown",
   "metadata": {},
   "source": [
    "### CatBoost installation\n",
    "If you have not already installed CatBoost: <br>\n",
    "pip install --upgrade catboost\n"
   ]
  },
  {
   "cell_type": "markdown",
   "metadata": {},
   "source": [
    "### Data Loading"
   ]
  },
  {
   "cell_type": "code",
   "execution_count": 21,
   "metadata": {},
   "outputs": [],
   "source": [
    "from catboost import CatBoostRegressor, Pool, cv\n",
    "from catboost.eval.catboost_evaluation import *\n",
    "\n",
    "import numpy as np\n",
    "import pandas as pd\n",
    "from collections import Counter\n",
    "from itertools import product\n",
    "\n",
    "from sklearn.model_selection import train_test_split\n",
    "from sklearn.metrics import mean_squared_error, mean_absolute_error\n",
    "\n",
    "from imblearn.over_sampling import SMOTE, SMOTENC"
   ]
  },
  {
   "cell_type": "code",
   "execution_count": 22,
   "metadata": {},
   "outputs": [],
   "source": [
    "#Define function to calculate the MAPE\n",
    "def mean_absolute_percentage_error(y_true, y_pred): \n",
    "    y_true, y_pred = np.array(y_true), np.array(y_pred)\n",
    "    return np.mean(np.abs((y_true - y_pred) / y_true)) * 100"
   ]
  },
  {
   "cell_type": "code",
   "execution_count": 2,
   "metadata": {},
   "outputs": [
    {
     "name": "stdout",
     "output_type": "stream",
     "text": [
      "DF shape (891, 9)\n"
     ]
    },
    {
     "data": {
      "text/html": [
       "<div>\n",
       "<style scoped>\n",
       "    .dataframe tbody tr th:only-of-type {\n",
       "        vertical-align: middle;\n",
       "    }\n",
       "\n",
       "    .dataframe tbody tr th {\n",
       "        vertical-align: top;\n",
       "    }\n",
       "\n",
       "    .dataframe thead th {\n",
       "        text-align: right;\n",
       "    }\n",
       "</style>\n",
       "<table border=\"1\" class=\"dataframe\">\n",
       "  <thead>\n",
       "    <tr style=\"text-align: right;\">\n",
       "      <th></th>\n",
       "      <th>Survived</th>\n",
       "      <th>Pclass</th>\n",
       "      <th>Sex</th>\n",
       "      <th>Age</th>\n",
       "      <th>SibSp</th>\n",
       "      <th>Parch</th>\n",
       "      <th>Fare</th>\n",
       "      <th>Cabin</th>\n",
       "      <th>Embarked</th>\n",
       "    </tr>\n",
       "  </thead>\n",
       "  <tbody>\n",
       "    <tr>\n",
       "      <td>0</td>\n",
       "      <td>0</td>\n",
       "      <td>3</td>\n",
       "      <td>male</td>\n",
       "      <td>22.0</td>\n",
       "      <td>1</td>\n",
       "      <td>0</td>\n",
       "      <td>7.2500</td>\n",
       "      <td>NaN</td>\n",
       "      <td>S</td>\n",
       "    </tr>\n",
       "    <tr>\n",
       "      <td>1</td>\n",
       "      <td>1</td>\n",
       "      <td>1</td>\n",
       "      <td>female</td>\n",
       "      <td>38.0</td>\n",
       "      <td>1</td>\n",
       "      <td>0</td>\n",
       "      <td>71.2833</td>\n",
       "      <td>C85</td>\n",
       "      <td>C</td>\n",
       "    </tr>\n",
       "    <tr>\n",
       "      <td>2</td>\n",
       "      <td>1</td>\n",
       "      <td>3</td>\n",
       "      <td>female</td>\n",
       "      <td>26.0</td>\n",
       "      <td>0</td>\n",
       "      <td>0</td>\n",
       "      <td>7.9250</td>\n",
       "      <td>NaN</td>\n",
       "      <td>S</td>\n",
       "    </tr>\n",
       "    <tr>\n",
       "      <td>3</td>\n",
       "      <td>1</td>\n",
       "      <td>1</td>\n",
       "      <td>female</td>\n",
       "      <td>35.0</td>\n",
       "      <td>1</td>\n",
       "      <td>0</td>\n",
       "      <td>53.1000</td>\n",
       "      <td>C123</td>\n",
       "      <td>S</td>\n",
       "    </tr>\n",
       "    <tr>\n",
       "      <td>4</td>\n",
       "      <td>0</td>\n",
       "      <td>3</td>\n",
       "      <td>male</td>\n",
       "      <td>35.0</td>\n",
       "      <td>0</td>\n",
       "      <td>0</td>\n",
       "      <td>8.0500</td>\n",
       "      <td>NaN</td>\n",
       "      <td>S</td>\n",
       "    </tr>\n",
       "  </tbody>\n",
       "</table>\n",
       "</div>"
      ],
      "text/plain": [
       "   Survived  Pclass     Sex   Age  SibSp  Parch     Fare Cabin Embarked\n",
       "0         0       3    male  22.0      1      0   7.2500   NaN        S\n",
       "1         1       1  female  38.0      1      0  71.2833   C85        C\n",
       "2         1       3  female  26.0      0      0   7.9250   NaN        S\n",
       "3         1       1  female  35.0      1      0  53.1000  C123        S\n",
       "4         0       3    male  35.0      0      0   8.0500   NaN        S"
      ]
     },
     "execution_count": 2,
     "metadata": {},
     "output_type": "execute_result"
    }
   ],
   "source": [
    "#Import Data\n",
    "df = pd.read_csv(\"titanic.csv\")\n",
    "\n",
    "#See the imported dataset\n",
    "print(\"DF shape\", df.shape)\n",
    "df.head()\n"
   ]
  },
  {
   "cell_type": "markdown",
   "metadata": {},
   "source": [
    "### Feature Preparation\n",
    "First of all let's check how many missing values do we have:"
   ]
  },
  {
   "cell_type": "code",
   "execution_count": 3,
   "metadata": {},
   "outputs": [
    {
     "data": {
      "text/plain": [
       "Survived      0\n",
       "Pclass        0\n",
       "Sex           0\n",
       "Age         177\n",
       "SibSp         0\n",
       "Parch         0\n",
       "Fare          0\n",
       "Cabin       687\n",
       "Embarked      2\n",
       "dtype: int64"
      ]
     },
     "execution_count": 3,
     "metadata": {},
     "output_type": "execute_result"
    }
   ],
   "source": [
    "df.isnull().sum()"
   ]
  },
  {
   "cell_type": "markdown",
   "metadata": {},
   "source": [
    "As we cat see, **`Age`**, **`Cabin`** and **`Embarked`** indeed have some missing values, so let's fill them with some number way out of their distributions - so the model would be able to easily distinguish between them and take it into account:"
   ]
  },
  {
   "cell_type": "code",
   "execution_count": 4,
   "metadata": {},
   "outputs": [
    {
     "data": {
      "text/plain": [
       "Survived    0\n",
       "Pclass      0\n",
       "Sex         0\n",
       "Age         0\n",
       "SibSp       0\n",
       "Parch       0\n",
       "Fare        0\n",
       "Cabin       0\n",
       "Embarked    0\n",
       "dtype: int64"
      ]
     },
     "execution_count": 4,
     "metadata": {},
     "output_type": "execute_result"
    }
   ],
   "source": [
    "df.fillna(-999, inplace=True)\n",
    "df.isnull().sum()"
   ]
  },
  {
   "cell_type": "markdown",
   "metadata": {},
   "source": [
    "Now let's separate features and label variable, **to test regression we try to predict the ticket price**:"
   ]
  },
  {
   "cell_type": "code",
   "execution_count": 5,
   "metadata": {},
   "outputs": [],
   "source": [
    "X = df.drop('Fare', axis=1)\n",
    "y = df.Fare"
   ]
  },
  {
   "cell_type": "markdown",
   "metadata": {},
   "source": [
    "Pay attention that our features are of differnt types - some of them are numeric, some are categorical, and some are even just strings, which normally should be handled in some specific way (for example encoded with bag-of-words representation). But in our case we could treat these string features just as categorical one - all the heavy lifting is done inside CatBoost. How cool is that? :)"
   ]
  },
  {
   "cell_type": "code",
   "execution_count": 6,
   "metadata": {},
   "outputs": [
    {
     "name": "stdout",
     "output_type": "stream",
     "text": [
      "Survived      int64\n",
      "Pclass        int64\n",
      "Sex          object\n",
      "Age         float64\n",
      "SibSp         int64\n",
      "Parch         int64\n",
      "Cabin        object\n",
      "Embarked     object\n",
      "dtype: object\n"
     ]
    },
    {
     "data": {
      "text/plain": [
       "array([0, 1, 2, 4, 5, 6, 7], dtype=int64)"
      ]
     },
     "execution_count": 6,
     "metadata": {},
     "output_type": "execute_result"
    }
   ],
   "source": [
    "print(X.dtypes)\n",
    "\n",
    "categorical_features_indices = np.where(X.dtypes != np.float)[0]\n",
    "categorical_features_indices"
   ]
  },
  {
   "cell_type": "markdown",
   "metadata": {},
   "source": [
    "#### Encode Strings\n",
    "Not strictly necessary in Catboost, but useful for example for SMOTE."
   ]
  },
  {
   "cell_type": "code",
   "execution_count": 10,
   "metadata": {},
   "outputs": [
    {
     "data": {
      "text/html": [
       "<div>\n",
       "<style scoped>\n",
       "    .dataframe tbody tr th:only-of-type {\n",
       "        vertical-align: middle;\n",
       "    }\n",
       "\n",
       "    .dataframe tbody tr th {\n",
       "        vertical-align: top;\n",
       "    }\n",
       "\n",
       "    .dataframe thead th {\n",
       "        text-align: right;\n",
       "    }\n",
       "</style>\n",
       "<table border=\"1\" class=\"dataframe\">\n",
       "  <thead>\n",
       "    <tr style=\"text-align: right;\">\n",
       "      <th></th>\n",
       "      <th>Survived</th>\n",
       "      <th>Pclass</th>\n",
       "      <th>Sex</th>\n",
       "      <th>Age</th>\n",
       "      <th>SibSp</th>\n",
       "      <th>Parch</th>\n",
       "      <th>Cabin</th>\n",
       "      <th>Embarked</th>\n",
       "    </tr>\n",
       "  </thead>\n",
       "  <tbody>\n",
       "    <tr>\n",
       "      <td>0</td>\n",
       "      <td>0</td>\n",
       "      <td>3</td>\n",
       "      <td>1</td>\n",
       "      <td>22.0</td>\n",
       "      <td>1</td>\n",
       "      <td>0</td>\n",
       "      <td>0</td>\n",
       "      <td>3</td>\n",
       "    </tr>\n",
       "    <tr>\n",
       "      <td>1</td>\n",
       "      <td>1</td>\n",
       "      <td>1</td>\n",
       "      <td>0</td>\n",
       "      <td>38.0</td>\n",
       "      <td>1</td>\n",
       "      <td>0</td>\n",
       "      <td>82</td>\n",
       "      <td>1</td>\n",
       "    </tr>\n",
       "    <tr>\n",
       "      <td>2</td>\n",
       "      <td>1</td>\n",
       "      <td>3</td>\n",
       "      <td>0</td>\n",
       "      <td>26.0</td>\n",
       "      <td>0</td>\n",
       "      <td>0</td>\n",
       "      <td>0</td>\n",
       "      <td>3</td>\n",
       "    </tr>\n",
       "    <tr>\n",
       "      <td>3</td>\n",
       "      <td>1</td>\n",
       "      <td>1</td>\n",
       "      <td>0</td>\n",
       "      <td>35.0</td>\n",
       "      <td>1</td>\n",
       "      <td>0</td>\n",
       "      <td>56</td>\n",
       "      <td>3</td>\n",
       "    </tr>\n",
       "    <tr>\n",
       "      <td>4</td>\n",
       "      <td>0</td>\n",
       "      <td>3</td>\n",
       "      <td>1</td>\n",
       "      <td>35.0</td>\n",
       "      <td>0</td>\n",
       "      <td>0</td>\n",
       "      <td>0</td>\n",
       "      <td>3</td>\n",
       "    </tr>\n",
       "  </tbody>\n",
       "</table>\n",
       "</div>"
      ],
      "text/plain": [
       "   Survived  Pclass  Sex   Age  SibSp  Parch  Cabin  Embarked\n",
       "0         0       3    1  22.0      1      0      0         3\n",
       "1         1       1    0  38.0      1      0     82         1\n",
       "2         1       3    0  26.0      0      0      0         3\n",
       "3         1       1    0  35.0      1      0     56         3\n",
       "4         0       3    1  35.0      0      0      0         3"
      ]
     },
     "execution_count": 10,
     "metadata": {},
     "output_type": "execute_result"
    }
   ],
   "source": [
    "for var in ['Sex', 'Cabin', 'Embarked']:\n",
    "    X[var] = X[var].astype('category').cat.codes\n",
    "X.head()"
   ]
  },
  {
   "cell_type": "markdown",
   "metadata": {},
   "source": [
    "### Data Splitting\n",
    "Let's split the train data into training and validation sets."
   ]
  },
  {
   "cell_type": "code",
   "execution_count": 11,
   "metadata": {},
   "outputs": [],
   "source": [
    "X_train, X_test, y_train, y_test = train_test_split(X, y, train_size=0.75, random_state=14)"
   ]
  },
  {
   "cell_type": "markdown",
   "metadata": {},
   "source": [
    "### Parameters Tuning"
   ]
  },
  {
   "cell_type": "code",
   "execution_count": 12,
   "metadata": {},
   "outputs": [
    {
     "name": "stdout",
     "output_type": "stream",
     "text": [
      "# Combinations: 60\n"
     ]
    }
   ],
   "source": [
    "#Define a grid of parameters to test\n",
    "grid = {'learning_rate': [0.01, 0.03, 0.1, 0.2],\n",
    "        'depth': [4, 6, 10],\n",
    "        'l2_leaf_reg': [1, 3, 5, 7, 9],\n",
    "        }\n",
    "\n",
    "#Count all possible combinations\n",
    "print(\"# Combinations:\", len([dict(zip(grid.keys(),v)) for v in product(*grid.values())]))"
   ]
  },
  {
   "cell_type": "code",
   "execution_count": 16,
   "metadata": {},
   "outputs": [
    {
     "name": "stdout",
     "output_type": "stream",
     "text": [
      "0:\tloss: 56.0010108\tbest: 56.0010108 (0)\ttotal: 599ms\tremaining: 35.3s\n",
      "1:\tloss: 55.0748455\tbest: 55.0748455 (1)\ttotal: 1.24s\tremaining: 35.9s\n",
      "2:\tloss: 54.7943036\tbest: 54.7943036 (2)\ttotal: 1.96s\tremaining: 37.2s\n",
      "3:\tloss: 54.5304768\tbest: 54.5304768 (3)\ttotal: 2.47s\tremaining: 34.6s\n",
      "4:\tloss: 56.5582544\tbest: 54.5304768 (3)\ttotal: 3s\tremaining: 33s\n",
      "5:\tloss: 56.1316956\tbest: 54.5304768 (3)\ttotal: 3.58s\tremaining: 32.2s\n",
      "6:\tloss: 55.2493711\tbest: 54.5304768 (3)\ttotal: 4.16s\tremaining: 31.5s\n",
      "7:\tloss: 55.2764053\tbest: 54.5304768 (3)\ttotal: 4.74s\tremaining: 30.8s\n",
      "8:\tloss: 56.9629922\tbest: 54.5304768 (3)\ttotal: 5.3s\tremaining: 30.1s\n",
      "9:\tloss: 56.5150976\tbest: 54.5304768 (3)\ttotal: 5.9s\tremaining: 29.5s\n",
      "10:\tloss: 55.7352622\tbest: 54.5304768 (3)\ttotal: 6.49s\tremaining: 28.9s\n",
      "11:\tloss: 55.8818405\tbest: 54.5304768 (3)\ttotal: 7.04s\tremaining: 28.2s\n",
      "12:\tloss: 56.6578179\tbest: 54.5304768 (3)\ttotal: 7.64s\tremaining: 27.6s\n",
      "13:\tloss: 56.7010579\tbest: 54.5304768 (3)\ttotal: 8.17s\tremaining: 26.8s\n",
      "14:\tloss: 56.8905418\tbest: 54.5304768 (3)\ttotal: 8.68s\tremaining: 26.1s\n",
      "15:\tloss: 55.7811892\tbest: 54.5304768 (3)\ttotal: 9.19s\tremaining: 25.3s\n",
      "16:\tloss: 57.1470963\tbest: 54.5304768 (3)\ttotal: 9.71s\tremaining: 24.6s\n",
      "17:\tloss: 56.7959783\tbest: 54.5304768 (3)\ttotal: 10.2s\tremaining: 23.9s\n",
      "18:\tloss: 56.7936863\tbest: 54.5304768 (3)\ttotal: 10.8s\tremaining: 23.2s\n",
      "19:\tloss: 56.0297511\tbest: 54.5304768 (3)\ttotal: 11.3s\tremaining: 22.6s\n",
      "20:\tloss: 56.2158961\tbest: 54.5304768 (3)\ttotal: 12s\tremaining: 22.4s\n",
      "21:\tloss: 56.2588042\tbest: 54.5304768 (3)\ttotal: 12.8s\tremaining: 22.1s\n",
      "22:\tloss: 55.6528153\tbest: 54.5304768 (3)\ttotal: 13.6s\tremaining: 21.9s\n",
      "23:\tloss: 56.1655300\tbest: 54.5304768 (3)\ttotal: 14.4s\tremaining: 21.6s\n",
      "24:\tloss: 57.1085008\tbest: 54.5304768 (3)\ttotal: 15.1s\tremaining: 21.2s\n",
      "25:\tloss: 57.3652975\tbest: 54.5304768 (3)\ttotal: 15.9s\tremaining: 20.8s\n",
      "26:\tloss: 56.6678121\tbest: 54.5304768 (3)\ttotal: 16.7s\tremaining: 20.4s\n",
      "27:\tloss: 55.1166398\tbest: 54.5304768 (3)\ttotal: 17.4s\tremaining: 19.9s\n",
      "28:\tloss: 57.3929078\tbest: 54.5304768 (3)\ttotal: 18.1s\tremaining: 19.4s\n",
      "29:\tloss: 56.8671891\tbest: 54.5304768 (3)\ttotal: 18.9s\tremaining: 18.9s\n",
      "30:\tloss: 57.3464318\tbest: 54.5304768 (3)\ttotal: 19.6s\tremaining: 18.3s\n",
      "31:\tloss: 55.3087829\tbest: 54.5304768 (3)\ttotal: 20.4s\tremaining: 17.9s\n",
      "32:\tloss: 56.7263435\tbest: 54.5304768 (3)\ttotal: 21.2s\tremaining: 17.3s\n",
      "33:\tloss: 56.9371559\tbest: 54.5304768 (3)\ttotal: 21.9s\tremaining: 16.8s\n",
      "34:\tloss: 56.7786102\tbest: 54.5304768 (3)\ttotal: 22.7s\tremaining: 16.2s\n",
      "35:\tloss: 56.7696618\tbest: 54.5304768 (3)\ttotal: 23.4s\tremaining: 15.6s\n",
      "36:\tloss: 57.4025167\tbest: 54.5304768 (3)\ttotal: 24.2s\tremaining: 15s\n",
      "37:\tloss: 57.1296187\tbest: 54.5304768 (3)\ttotal: 24.9s\tremaining: 14.4s\n",
      "38:\tloss: 57.3006905\tbest: 54.5304768 (3)\ttotal: 25.7s\tremaining: 13.8s\n",
      "39:\tloss: 56.4778402\tbest: 54.5304768 (3)\ttotal: 26.5s\tremaining: 13.2s\n",
      "40:\tloss: 60.1403067\tbest: 54.5304768 (3)\ttotal: 29.7s\tremaining: 13.8s\n",
      "41:\tloss: 60.0970133\tbest: 54.5304768 (3)\ttotal: 33.7s\tremaining: 14.4s\n",
      "42:\tloss: 60.2010448\tbest: 54.5304768 (3)\ttotal: 37.9s\tremaining: 15s\n",
      "43:\tloss: 59.8375171\tbest: 54.5304768 (3)\ttotal: 42.2s\tremaining: 15.3s\n",
      "44:\tloss: 60.0935152\tbest: 54.5304768 (3)\ttotal: 45.4s\tremaining: 15.1s\n",
      "45:\tloss: 59.4928896\tbest: 54.5304768 (3)\ttotal: 49.4s\tremaining: 15s\n",
      "46:\tloss: 58.7587513\tbest: 54.5304768 (3)\ttotal: 53.6s\tremaining: 14.8s\n",
      "47:\tloss: 59.0939540\tbest: 54.5304768 (3)\ttotal: 57.9s\tremaining: 14.5s\n",
      "48:\tloss: 59.4240544\tbest: 54.5304768 (3)\ttotal: 1m\tremaining: 13.7s\n",
      "49:\tloss: 59.5756925\tbest: 54.5304768 (3)\ttotal: 1m 4s\tremaining: 13s\n",
      "50:\tloss: 59.1499466\tbest: 54.5304768 (3)\ttotal: 1m 9s\tremaining: 12.2s\n",
      "51:\tloss: 59.2847244\tbest: 54.5304768 (3)\ttotal: 1m 13s\tremaining: 11.3s\n",
      "52:\tloss: 59.5107092\tbest: 54.5304768 (3)\ttotal: 1m 16s\tremaining: 10.1s\n",
      "53:\tloss: 56.7645650\tbest: 54.5304768 (3)\ttotal: 1m 20s\tremaining: 8.96s\n",
      "54:\tloss: 57.7321164\tbest: 54.5304768 (3)\ttotal: 1m 24s\tremaining: 7.73s\n",
      "55:\tloss: 59.0125414\tbest: 54.5304768 (3)\ttotal: 1m 29s\tremaining: 6.4s\n",
      "56:\tloss: 59.9547821\tbest: 54.5304768 (3)\ttotal: 1m 32s\tremaining: 4.89s\n",
      "57:\tloss: 57.7521396\tbest: 54.5304768 (3)\ttotal: 1m 37s\tremaining: 3.35s\n",
      "58:\tloss: 58.0880429\tbest: 54.5304768 (3)\ttotal: 1m 41s\tremaining: 1.73s\n",
      "59:\tloss: 59.2549200\tbest: 54.5304768 (3)\ttotal: 1m 46s\tremaining: 0us\n",
      "Estimating final quality...\n"
     ]
    },
    {
     "data": {
      "text/plain": [
       "{'depth': 4, 'l2_leaf_reg': 1, 'learning_rate': 0.2}"
      ]
     },
     "execution_count": 16,
     "metadata": {},
     "output_type": "execute_result"
    }
   ],
   "source": [
    "#Define Model\n",
    "model = CatBoostRegressor()\n",
    "\n",
    "#Grid Search\n",
    "#Default cross-validation is 3-fold\n",
    "grid_search_result = model.grid_search(grid, X=X_train, y=y_train, cv=3)\n",
    "bestparam = grid_search_result[\"params\"]\n",
    "bestparam"
   ]
  },
  {
   "cell_type": "code",
   "execution_count": 17,
   "metadata": {},
   "outputs": [
    {
     "name": "stdout",
     "output_type": "stream",
     "text": [
      "{'loss_function': 'RMSE', 'depth': 4, 'l2_leaf_reg': 1, 'learning_rate': 0.2, 'eval_metric': 'RMSE'}\n"
     ]
    }
   ],
   "source": [
    "#Set best params\n",
    "model = CatBoostRegressor()\n",
    "\n",
    "#Depending on your objective you can also customize the evaluation metric\n",
    "bestparam[\"eval_metric\"] = \"RMSE\"\n",
    "\n",
    "model.set_params(**bestparam)\n",
    "print(model.get_params())"
   ]
  },
  {
   "cell_type": "markdown",
   "metadata": {},
   "source": [
    "### Model Training\n",
    "Retaining the best model and with early stopping, to avoid overfit.\n",
    "**In real cases, we need an external test set, not used for training or validation (early stopping). That dataset is the one to be used to evaluate the final moldel.**"
   ]
  },
  {
   "cell_type": "code",
   "execution_count": 18,
   "metadata": {},
   "outputs": [
    {
     "name": "stdout",
     "output_type": "stream",
     "text": [
      "(668, 8) (501, 8) (167, 8)\n"
     ]
    }
   ],
   "source": [
    "#Furter split the train set into final_train and validation sets\n",
    "X_train_final, X_validation, y_train_final, y_validation = train_test_split(X_train, y_train,\\\n",
    "                                                                            train_size=0.75, random_state=14)\n",
    "\n",
    "print(X_train.shape, X_train_final.shape, X_validation.shape)"
   ]
  },
  {
   "cell_type": "markdown",
   "metadata": {},
   "source": [
    "Use early sotopping rounds and validation set, to stop after K iterations with no improvement of the evaluation metric."
   ]
  },
  {
   "cell_type": "code",
   "execution_count": 33,
   "metadata": {},
   "outputs": [
    {
     "name": "stdout",
     "output_type": "stream",
     "text": [
      "0:\tlearn: 43.6493393\ttest: 52.1832622\tbest: 52.1832622 (0)\ttotal: 12.7ms\tremaining: 12.7s\n",
      "1:\tlearn: 40.7367274\ttest: 49.1197856\tbest: 49.1197856 (1)\ttotal: 23.7ms\tremaining: 11.8s\n",
      "2:\tlearn: 38.4952923\ttest: 47.2401130\tbest: 47.2401130 (2)\ttotal: 25.5ms\tremaining: 8.47s\n",
      "3:\tlearn: 36.7473355\ttest: 46.0462151\tbest: 46.0462151 (3)\ttotal: 32.1ms\tremaining: 7.99s\n",
      "4:\tlearn: 35.1955850\ttest: 44.8261668\tbest: 44.8261668 (4)\ttotal: 33.3ms\tremaining: 6.63s\n",
      "5:\tlearn: 34.3082789\ttest: 44.1016612\tbest: 44.1016612 (5)\ttotal: 37ms\tremaining: 6.13s\n",
      "6:\tlearn: 33.4253749\ttest: 43.3189825\tbest: 43.3189825 (6)\ttotal: 40.9ms\tremaining: 5.8s\n",
      "7:\tlearn: 32.9105041\ttest: 43.1057861\tbest: 43.1057861 (7)\ttotal: 42ms\tremaining: 5.21s\n",
      "8:\tlearn: 32.3624857\ttest: 42.3654827\tbest: 42.3654827 (8)\ttotal: 52.8ms\tremaining: 5.81s\n",
      "9:\tlearn: 32.0007112\ttest: 42.2778349\tbest: 42.2778349 (9)\ttotal: 53.9ms\tremaining: 5.33s\n",
      "10:\tlearn: 31.8417047\ttest: 42.3882976\tbest: 42.2778349 (9)\ttotal: 57.5ms\tremaining: 5.17s\n",
      "11:\tlearn: 31.5741152\ttest: 42.1879642\tbest: 42.1879642 (11)\ttotal: 61.1ms\tremaining: 5.03s\n",
      "12:\tlearn: 30.9996860\ttest: 42.2771882\tbest: 42.1879642 (11)\ttotal: 64.8ms\tremaining: 4.92s\n",
      "13:\tlearn: 30.9271050\ttest: 42.1492447\tbest: 42.1492447 (13)\ttotal: 73.7ms\tremaining: 5.19s\n",
      "14:\tlearn: 30.8425375\ttest: 42.1300837\tbest: 42.1300837 (14)\ttotal: 77.3ms\tremaining: 5.07s\n",
      "15:\tlearn: 30.5248465\ttest: 42.1919339\tbest: 42.1300837 (14)\ttotal: 78.3ms\tremaining: 4.82s\n",
      "16:\tlearn: 30.2891855\ttest: 41.9854253\tbest: 41.9854253 (16)\ttotal: 84.5ms\tremaining: 4.88s\n",
      "17:\tlearn: 30.2396831\ttest: 41.9997583\tbest: 41.9854253 (16)\ttotal: 90.8ms\tremaining: 4.95s\n",
      "18:\tlearn: 30.0835019\ttest: 41.8773110\tbest: 41.8773110 (18)\ttotal: 91.9ms\tremaining: 4.75s\n",
      "19:\tlearn: 29.8709296\ttest: 41.7057919\tbest: 41.7057919 (19)\ttotal: 95.5ms\tremaining: 4.68s\n",
      "20:\tlearn: 28.9827673\ttest: 41.6726332\tbest: 41.6726332 (20)\ttotal: 96.7ms\tremaining: 4.5s\n",
      "21:\tlearn: 28.7840303\ttest: 41.5740518\tbest: 41.5740518 (21)\ttotal: 103ms\tremaining: 4.57s\n",
      "22:\tlearn: 28.7839647\ttest: 41.5727862\tbest: 41.5727862 (22)\ttotal: 103ms\tremaining: 4.39s\n",
      "23:\tlearn: 28.6085990\ttest: 41.7476523\tbest: 41.5727862 (22)\ttotal: 110ms\tremaining: 4.46s\n",
      "24:\tlearn: 28.3542095\ttest: 41.6986823\tbest: 41.5727862 (22)\ttotal: 113ms\tremaining: 4.42s\n",
      "25:\tlearn: 28.0697167\ttest: 41.6602795\tbest: 41.5727862 (22)\ttotal: 117ms\tremaining: 4.38s\n",
      "26:\tlearn: 27.9594626\ttest: 41.6609299\tbest: 41.5727862 (22)\ttotal: 118ms\tremaining: 4.27s\n",
      "27:\tlearn: 27.8136136\ttest: 41.5802964\tbest: 41.5727862 (22)\ttotal: 120ms\tremaining: 4.16s\n",
      "28:\tlearn: 27.7695937\ttest: 41.6480477\tbest: 41.5727862 (22)\ttotal: 121ms\tremaining: 4.04s\n",
      "29:\tlearn: 27.7458076\ttest: 41.6389515\tbest: 41.5727862 (22)\ttotal: 125ms\tremaining: 4.03s\n",
      "30:\tlearn: 27.6167024\ttest: 41.7018170\tbest: 41.5727862 (22)\ttotal: 128ms\tremaining: 4.01s\n",
      "31:\tlearn: 27.4426412\ttest: 41.5100528\tbest: 41.5100528 (31)\ttotal: 132ms\tremaining: 4.01s\n",
      "32:\tlearn: 27.4259558\ttest: 41.5027050\tbest: 41.5027050 (32)\ttotal: 134ms\tremaining: 3.92s\n",
      "33:\tlearn: 27.3588994\ttest: 41.5483911\tbest: 41.5027050 (32)\ttotal: 140ms\tremaining: 3.98s\n",
      "34:\tlearn: 27.3146361\ttest: 41.5473656\tbest: 41.5027050 (32)\ttotal: 141ms\tremaining: 3.9s\n",
      "35:\tlearn: 27.2591762\ttest: 41.5505574\tbest: 41.5027050 (32)\ttotal: 147ms\tremaining: 3.95s\n",
      "36:\tlearn: 27.0790753\ttest: 41.6454399\tbest: 41.5027050 (32)\ttotal: 154ms\tremaining: 4s\n",
      "37:\tlearn: 26.3203659\ttest: 41.7500366\tbest: 41.5027050 (32)\ttotal: 160ms\tremaining: 4.04s\n",
      "38:\tlearn: 26.2340821\ttest: 41.7613927\tbest: 41.5027050 (32)\ttotal: 161ms\tremaining: 3.97s\n",
      "39:\tlearn: 26.1695968\ttest: 41.8029856\tbest: 41.5027050 (32)\ttotal: 167ms\tremaining: 4.01s\n",
      "40:\tlearn: 26.1287494\ttest: 41.7708168\tbest: 41.5027050 (32)\ttotal: 171ms\tremaining: 4s\n",
      "41:\tlearn: 26.0563632\ttest: 41.6473114\tbest: 41.5027050 (32)\ttotal: 172ms\tremaining: 3.92s\n",
      "42:\tlearn: 25.5212595\ttest: 41.7317802\tbest: 41.5027050 (32)\ttotal: 181ms\tremaining: 4.03s\n",
      "43:\tlearn: 25.5198003\ttest: 41.7319090\tbest: 41.5027050 (32)\ttotal: 185ms\tremaining: 4.01s\n",
      "44:\tlearn: 25.1757892\ttest: 41.7951083\tbest: 41.5027050 (32)\ttotal: 186ms\tremaining: 3.94s\n",
      "45:\tlearn: 24.9486028\ttest: 41.8317912\tbest: 41.5027050 (32)\ttotal: 192ms\tremaining: 3.98s\n",
      "46:\tlearn: 24.9132249\ttest: 41.8511524\tbest: 41.5027050 (32)\ttotal: 196ms\tremaining: 3.98s\n",
      "47:\tlearn: 24.8719864\ttest: 41.8022151\tbest: 41.5027050 (32)\ttotal: 198ms\tremaining: 3.92s\n",
      "48:\tlearn: 24.6661581\ttest: 41.7716004\tbest: 41.5027050 (32)\ttotal: 209ms\tremaining: 4.05s\n",
      "49:\tlearn: 24.6583871\ttest: 41.7695087\tbest: 41.5027050 (32)\ttotal: 216ms\tremaining: 4.1s\n",
      "50:\tlearn: 24.5903098\ttest: 41.7725869\tbest: 41.5027050 (32)\ttotal: 225ms\tremaining: 4.19s\n",
      "51:\tlearn: 24.3841431\ttest: 41.7952292\tbest: 41.5027050 (32)\ttotal: 234ms\tremaining: 4.27s\n",
      "52:\tlearn: 24.3225011\ttest: 41.7937507\tbest: 41.5027050 (32)\ttotal: 241ms\tremaining: 4.3s\n",
      "53:\tlearn: 24.2970394\ttest: 41.8016800\tbest: 41.5027050 (32)\ttotal: 242ms\tremaining: 4.24s\n",
      "54:\tlearn: 24.2559902\ttest: 41.8347584\tbest: 41.5027050 (32)\ttotal: 246ms\tremaining: 4.22s\n",
      "55:\tlearn: 24.1062452\ttest: 41.8470638\tbest: 41.5027050 (32)\ttotal: 247ms\tremaining: 4.16s\n",
      "56:\tlearn: 24.0055859\ttest: 41.8687302\tbest: 41.5027050 (32)\ttotal: 248ms\tremaining: 4.1s\n",
      "57:\tlearn: 23.9652259\ttest: 41.8806872\tbest: 41.5027050 (32)\ttotal: 252ms\tremaining: 4.09s\n",
      "58:\tlearn: 23.9620393\ttest: 41.8712531\tbest: 41.5027050 (32)\ttotal: 261ms\tremaining: 4.16s\n",
      "59:\tlearn: 23.9455631\ttest: 41.8846852\tbest: 41.5027050 (32)\ttotal: 265ms\tremaining: 4.15s\n",
      "60:\tlearn: 23.5566148\ttest: 41.1278814\tbest: 41.1278814 (60)\ttotal: 271ms\tremaining: 4.17s\n",
      "61:\tlearn: 23.5310660\ttest: 41.1306393\tbest: 41.1278814 (60)\ttotal: 280ms\tremaining: 4.24s\n",
      "62:\tlearn: 23.1031463\ttest: 41.0960942\tbest: 41.0960942 (62)\ttotal: 287ms\tremaining: 4.26s\n",
      "63:\tlearn: 22.6750400\ttest: 41.1207116\tbest: 41.0960942 (62)\ttotal: 296ms\tremaining: 4.33s\n",
      "64:\tlearn: 22.5502381\ttest: 41.0182851\tbest: 41.0182851 (64)\ttotal: 300ms\tremaining: 4.32s\n",
      "65:\tlearn: 22.5404605\ttest: 41.0428450\tbest: 41.0182851 (64)\ttotal: 304ms\tremaining: 4.3s\n",
      "66:\tlearn: 22.5047637\ttest: 41.0337175\tbest: 41.0182851 (64)\ttotal: 313ms\tremaining: 4.36s\n",
      "67:\tlearn: 22.4936673\ttest: 41.0380757\tbest: 41.0182851 (64)\ttotal: 322ms\tremaining: 4.42s\n",
      "68:\tlearn: 22.4728664\ttest: 41.0298240\tbest: 41.0182851 (64)\ttotal: 329ms\tremaining: 4.44s\n",
      "69:\tlearn: 22.4042870\ttest: 41.0546566\tbest: 41.0182851 (64)\ttotal: 338ms\tremaining: 4.49s\n",
      "70:\tlearn: 22.1032075\ttest: 41.0771903\tbest: 41.0182851 (64)\ttotal: 348ms\tremaining: 4.55s\n",
      "71:\tlearn: 22.0858209\ttest: 41.1127090\tbest: 41.0182851 (64)\ttotal: 349ms\tremaining: 4.5s\n",
      "72:\tlearn: 22.0445609\ttest: 41.1080161\tbest: 41.0182851 (64)\ttotal: 355ms\tremaining: 4.51s\n",
      "73:\tlearn: 22.0246860\ttest: 41.1060291\tbest: 41.0182851 (64)\ttotal: 357ms\tremaining: 4.47s\n",
      "74:\tlearn: 22.0033594\ttest: 41.0599644\tbest: 41.0182851 (64)\ttotal: 359ms\tremaining: 4.43s\n",
      "75:\tlearn: 21.9661943\ttest: 41.0944284\tbest: 41.0182851 (64)\ttotal: 366ms\tremaining: 4.45s\n",
      "76:\tlearn: 21.8779186\ttest: 41.1012971\tbest: 41.0182851 (64)\ttotal: 376ms\tremaining: 4.5s\n",
      "77:\tlearn: 21.8722946\ttest: 41.1173030\tbest: 41.0182851 (64)\ttotal: 386ms\tremaining: 4.56s\n",
      "78:\tlearn: 21.8660660\ttest: 41.1349826\tbest: 41.0182851 (64)\ttotal: 395ms\tremaining: 4.61s\n",
      "79:\tlearn: 21.7888158\ttest: 41.0817506\tbest: 41.0182851 (64)\ttotal: 404ms\tremaining: 4.64s\n",
      "80:\tlearn: 21.6210286\ttest: 41.1338288\tbest: 41.0182851 (64)\ttotal: 409ms\tremaining: 4.64s\n",
      "81:\tlearn: 21.5624983\ttest: 41.1449252\tbest: 41.0182851 (64)\ttotal: 418ms\tremaining: 4.68s\n",
      "82:\tlearn: 21.4225238\ttest: 41.1497909\tbest: 41.0182851 (64)\ttotal: 425ms\tremaining: 4.69s\n",
      "83:\tlearn: 21.4106769\ttest: 41.1683061\tbest: 41.0182851 (64)\ttotal: 432ms\tremaining: 4.71s\n",
      "84:\tlearn: 21.3866359\ttest: 41.2131572\tbest: 41.0182851 (64)\ttotal: 439ms\tremaining: 4.73s\n",
      "85:\tlearn: 21.3626205\ttest: 41.2147500\tbest: 41.0182851 (64)\ttotal: 443ms\tremaining: 4.71s\n",
      "86:\tlearn: 21.3108154\ttest: 41.1910778\tbest: 41.0182851 (64)\ttotal: 450ms\tremaining: 4.72s\n",
      "87:\tlearn: 21.2744475\ttest: 41.2005617\tbest: 41.0182851 (64)\ttotal: 459ms\tremaining: 4.76s\n",
      "88:\tlearn: 21.2713634\ttest: 41.2062817\tbest: 41.0182851 (64)\ttotal: 461ms\tremaining: 4.72s\n",
      "89:\tlearn: 21.1003796\ttest: 41.2104026\tbest: 41.0182851 (64)\ttotal: 470ms\tremaining: 4.75s\n",
      "90:\tlearn: 21.0798360\ttest: 41.2318669\tbest: 41.0182851 (64)\ttotal: 477ms\tremaining: 4.76s\n",
      "91:\tlearn: 21.0002762\ttest: 41.1909934\tbest: 41.0182851 (64)\ttotal: 483ms\tremaining: 4.77s\n",
      "92:\tlearn: 20.9959441\ttest: 41.1806994\tbest: 41.0182851 (64)\ttotal: 493ms\tremaining: 4.81s\n",
      "93:\tlearn: 20.9856147\ttest: 41.2030921\tbest: 41.0182851 (64)\ttotal: 497ms\tremaining: 4.79s\n",
      "94:\tlearn: 20.8673778\ttest: 41.1720630\tbest: 41.0182851 (64)\ttotal: 501ms\tremaining: 4.77s\n",
      "95:\tlearn: 20.7726682\ttest: 41.2698922\tbest: 41.0182851 (64)\ttotal: 510ms\tremaining: 4.8s\n",
      "96:\tlearn: 20.7697574\ttest: 41.2659713\tbest: 41.0182851 (64)\ttotal: 516ms\tremaining: 4.8s\n",
      "97:\tlearn: 20.6629390\ttest: 41.2643692\tbest: 41.0182851 (64)\ttotal: 540ms\tremaining: 4.97s\n",
      "98:\tlearn: 20.6528506\ttest: 41.2631079\tbest: 41.0182851 (64)\ttotal: 551ms\tremaining: 5.02s\n"
     ]
    },
    {
     "name": "stdout",
     "output_type": "stream",
     "text": [
      "99:\tlearn: 20.2205215\ttest: 41.3910971\tbest: 41.0182851 (64)\ttotal: 559ms\tremaining: 5.03s\n",
      "100:\tlearn: 20.2182362\ttest: 41.3873315\tbest: 41.0182851 (64)\ttotal: 566ms\tremaining: 5.04s\n",
      "101:\tlearn: 20.1450386\ttest: 41.3300656\tbest: 41.0182851 (64)\ttotal: 576ms\tremaining: 5.07s\n",
      "102:\tlearn: 20.0326910\ttest: 41.3179782\tbest: 41.0182851 (64)\ttotal: 586ms\tremaining: 5.1s\n",
      "103:\tlearn: 19.9723603\ttest: 41.2931705\tbest: 41.0182851 (64)\ttotal: 592ms\tremaining: 5.1s\n",
      "104:\tlearn: 19.8699802\ttest: 41.3176682\tbest: 41.0182851 (64)\ttotal: 599ms\tremaining: 5.11s\n",
      "105:\tlearn: 19.8439732\ttest: 41.3843892\tbest: 41.0182851 (64)\ttotal: 603ms\tremaining: 5.09s\n",
      "106:\tlearn: 19.7888115\ttest: 41.3618913\tbest: 41.0182851 (64)\ttotal: 609ms\tremaining: 5.09s\n",
      "107:\tlearn: 19.7705313\ttest: 41.3340152\tbest: 41.0182851 (64)\ttotal: 618ms\tremaining: 5.11s\n",
      "108:\tlearn: 19.7661371\ttest: 41.3265322\tbest: 41.0182851 (64)\ttotal: 622ms\tremaining: 5.08s\n",
      "109:\tlearn: 19.7612990\ttest: 41.3372485\tbest: 41.0182851 (64)\ttotal: 631ms\tremaining: 5.11s\n",
      "110:\tlearn: 19.7292463\ttest: 41.3452516\tbest: 41.0182851 (64)\ttotal: 637ms\tremaining: 5.11s\n",
      "111:\tlearn: 19.6986449\ttest: 41.3428154\tbest: 41.0182851 (64)\ttotal: 647ms\tremaining: 5.13s\n",
      "112:\tlearn: 19.6909297\ttest: 41.3348226\tbest: 41.0182851 (64)\ttotal: 654ms\tremaining: 5.14s\n",
      "113:\tlearn: 19.4772560\ttest: 41.4645731\tbest: 41.0182851 (64)\ttotal: 664ms\tremaining: 5.16s\n",
      "114:\tlearn: 19.4489394\ttest: 41.4664720\tbest: 41.0182851 (64)\ttotal: 670ms\tremaining: 5.16s\n",
      "115:\tlearn: 19.2685764\ttest: 41.5179296\tbest: 41.0182851 (64)\ttotal: 680ms\tremaining: 5.18s\n",
      "116:\tlearn: 19.1562130\ttest: 41.4886810\tbest: 41.0182851 (64)\ttotal: 681ms\tremaining: 5.14s\n",
      "117:\tlearn: 19.1540626\ttest: 41.4297815\tbest: 41.0182851 (64)\ttotal: 682ms\tremaining: 5.1s\n",
      "118:\tlearn: 19.1415961\ttest: 41.4230638\tbest: 41.0182851 (64)\ttotal: 688ms\tremaining: 5.1s\n",
      "119:\tlearn: 18.9617561\ttest: 41.4933425\tbest: 41.0182851 (64)\ttotal: 695ms\tremaining: 5.1s\n",
      "120:\tlearn: 18.9080430\ttest: 41.5367174\tbest: 41.0182851 (64)\ttotal: 704ms\tremaining: 5.11s\n",
      "121:\tlearn: 18.8973636\ttest: 41.5353973\tbest: 41.0182851 (64)\ttotal: 713ms\tremaining: 5.13s\n",
      "122:\tlearn: 18.8576387\ttest: 41.5181784\tbest: 41.0182851 (64)\ttotal: 719ms\tremaining: 5.13s\n",
      "123:\tlearn: 18.8053673\ttest: 41.5325292\tbest: 41.0182851 (64)\ttotal: 728ms\tremaining: 5.14s\n",
      "124:\tlearn: 18.7873098\ttest: 41.5425890\tbest: 41.0182851 (64)\ttotal: 735ms\tremaining: 5.14s\n",
      "125:\tlearn: 18.7361104\ttest: 41.5100460\tbest: 41.0182851 (64)\ttotal: 742ms\tremaining: 5.14s\n",
      "126:\tlearn: 18.6590616\ttest: 41.5129623\tbest: 41.0182851 (64)\ttotal: 748ms\tremaining: 5.14s\n",
      "127:\tlearn: 18.6562053\ttest: 41.5166205\tbest: 41.0182851 (64)\ttotal: 756ms\tremaining: 5.15s\n",
      "128:\tlearn: 18.6333649\ttest: 41.5230549\tbest: 41.0182851 (64)\ttotal: 764ms\tremaining: 5.16s\n",
      "129:\tlearn: 18.6269679\ttest: 41.5381078\tbest: 41.0182851 (64)\ttotal: 770ms\tremaining: 5.16s\n",
      "130:\tlearn: 18.6081225\ttest: 41.5384302\tbest: 41.0182851 (64)\ttotal: 771ms\tremaining: 5.12s\n",
      "131:\tlearn: 18.5947297\ttest: 41.5565447\tbest: 41.0182851 (64)\ttotal: 776ms\tremaining: 5.1s\n",
      "132:\tlearn: 18.5840526\ttest: 41.5815331\tbest: 41.0182851 (64)\ttotal: 782ms\tremaining: 5.1s\n",
      "133:\tlearn: 18.5474130\ttest: 41.5699750\tbest: 41.0182851 (64)\ttotal: 799ms\tremaining: 5.16s\n",
      "134:\tlearn: 18.5392157\ttest: 41.5531644\tbest: 41.0182851 (64)\ttotal: 802ms\tremaining: 5.14s\n",
      "135:\tlearn: 18.5056697\ttest: 41.5644433\tbest: 41.0182851 (64)\ttotal: 806ms\tremaining: 5.12s\n",
      "136:\tlearn: 18.4737469\ttest: 41.6183562\tbest: 41.0182851 (64)\ttotal: 808ms\tremaining: 5.09s\n",
      "137:\tlearn: 18.4544146\ttest: 41.6682500\tbest: 41.0182851 (64)\ttotal: 817ms\tremaining: 5.1s\n",
      "138:\tlearn: 18.4003899\ttest: 41.7037387\tbest: 41.0182851 (64)\ttotal: 818ms\tremaining: 5.07s\n",
      "139:\tlearn: 18.3685591\ttest: 41.7009629\tbest: 41.0182851 (64)\ttotal: 819ms\tremaining: 5.03s\n",
      "140:\tlearn: 18.2847729\ttest: 41.6954069\tbest: 41.0182851 (64)\ttotal: 825ms\tremaining: 5.03s\n",
      "141:\tlearn: 18.1382060\ttest: 41.8331731\tbest: 41.0182851 (64)\ttotal: 829ms\tremaining: 5.01s\n",
      "142:\tlearn: 18.1186355\ttest: 41.8466682\tbest: 41.0182851 (64)\ttotal: 838ms\tremaining: 5.02s\n",
      "143:\tlearn: 18.1028102\ttest: 41.8537719\tbest: 41.0182851 (64)\ttotal: 845ms\tremaining: 5.02s\n",
      "144:\tlearn: 18.0425067\ttest: 42.0262336\tbest: 41.0182851 (64)\ttotal: 853ms\tremaining: 5.03s\n",
      "Stopped by overfitting detector  (80 iterations wait)\n",
      "\n",
      "bestTest = 41.0182851\n",
      "bestIteration = 64\n",
      "\n",
      "Shrink model to first 65 iterations.\n"
     ]
    },
    {
     "data": {
      "text/plain": [
       "<catboost.core.CatBoostRegressor at 0x172ff1ee948>"
      ]
     },
     "execution_count": 33,
     "metadata": {},
     "output_type": "execute_result"
    }
   ],
   "source": [
    "model.fit(X_train_final, y_train_final, cat_features=categorical_features_indices, eval_set=(X_validation, y_validation), \\\n",
    "                   early_stopping_rounds = 80, use_best_model=True, logging_level = \"Verbose\")\n"
   ]
  },
  {
   "cell_type": "markdown",
   "metadata": {},
   "source": [
    "With this we can see that the best **RMSE** value of **41.01** (on validation set) was acheived at step **64** with no futher improvement after **80** iterations (so the training stopped). We now retain this model as the **best model**."
   ]
  },
  {
   "cell_type": "markdown",
   "metadata": {},
   "source": [
    "### Model Predictions and Fit"
   ]
  },
  {
   "cell_type": "code",
   "execution_count": 40,
   "metadata": {},
   "outputs": [
    {
     "name": "stdout",
     "output_type": "stream",
     "text": [
      "MAE: 12.7431\n",
      "MAPE: inf\n",
      "RMSE: 34.8058\n",
      "\n",
      "MAPE(replaced zeros): 62.1592 %\n",
      "\n",
      "y_test M and SD (for comparison)\n",
      "31.2733 49.3787\n"
     ]
    },
    {
     "name": "stderr",
     "output_type": "stream",
     "text": [
      "C:\\Users\\Andrea\\Anaconda3\\lib\\site-packages\\ipykernel_launcher.py:4: RuntimeWarning: divide by zero encountered in true_divide\n",
      "  after removing the cwd from sys.path.\n"
     ]
    }
   ],
   "source": [
    "#Predict on the original Test Set\n",
    "predictions = model.predict(X_test)\n",
    "truevalues = np.array(y_test)\n",
    "\n",
    "#Calculate MAE, MAPE (if no 0 values) and RMSE\n",
    "print(\"MAE:\", '%.4f' % mean_absolute_error(truevalues, predictions))\n",
    "print(\"MAPE:\", '%.4f' % mean_absolute_percentage_error(truevalues, predictions))\n",
    "print(\"RMSE:\", '%.4f' %  np.sqrt(mean_squared_error(truevalues, predictions)))\n",
    "\n",
    "#Replace zero (only for demonstrational purpose) and calculate MAPE\n",
    "truevalues[truevalues == 0] = 1\n",
    "print(\"\\nMAPE(replaced zeros):\", '%.4f' % mean_absolute_percentage_error(truevalues, predictions), \"%\")\n",
    "\n",
    "#Compare with variable, just to get an idea\n",
    "print(\"\\ny_test M and SD (for comparison)\")\n",
    "print('%.4f' % y_test.mean(),'%.4f' % y_test.std())"
   ]
  },
  {
   "cell_type": "markdown",
   "metadata": {},
   "source": [
    "### Monte Carlo Cross-Validation\n",
    "Now repeat the process 1,000 times and provide average fit statistics, with their standard deviation."
   ]
  },
  {
   "cell_type": "code",
   "execution_count": 27,
   "metadata": {},
   "outputs": [],
   "source": [
    "#Save accuracy and kappa scores in a list\n",
    "MAE, RMSE = [], []\n",
    "\n",
    "#For demonstrational purposes we now reapet it 10 times\n",
    "for i in range(0,10):\n",
    "    #Split with no random seed in train, validation and test set\n",
    "    X_train, X_test, y_train, y_test = train_test_split(X, y, train_size=0.75)\n",
    "    X_train_final, X_validation, y_train_final, y_validation = train_test_split(X_train, y_train, train_size=0.75)\n",
    "    \n",
    "    model.fit(X_train_final, y_train_final, cat_features=categorical_features_indices, \\\n",
    "              eval_set=(X_validation, y_validation), early_stopping_rounds = 80, use_best_model=True, \\\n",
    "              logging_level = \"Silent\")\n",
    "    \n",
    "    predictions = model.predict(X_test)\n",
    "    truevalues = np.array(y_test)\n",
    "    \n",
    "    MAE.append(mean_absolute_error(truevalues, predictions))\n",
    "    RMSE.append(np.sqrt(mean_squared_error(truevalues, predictions)))"
   ]
  },
  {
   "cell_type": "code",
   "execution_count": 37,
   "metadata": {},
   "outputs": [
    {
     "name": "stdout",
     "output_type": "stream",
     "text": [
      "MAE at each cross-validation step\n",
      " [12.42592182702768, 17.092323839083598, 12.753634786967016, 12.912696719755921, 12.792237100196928, 15.784416622123544, 19.07116941742824, 15.78456335422633, 15.359102578951799, 12.743086698194608] \n",
      "\n",
      "RMSE at each cross-validation step\n",
      " [24.836901626612047, 47.73921682642773, 27.611795875810227, 25.349319997874577, 39.12348797075578, 39.47469426672077, 52.15669006483145, 34.239860097214596, 31.063438001199927, 34.805845754677655] \n",
      "\n",
      "MAE M 14.6719 SD 2.1733 \n",
      "\n",
      "RMSE M 35.6401 SD 8.6988\n"
     ]
    }
   ],
   "source": [
    "print(\"MAE at each cross-validation step\\n\", MAE, \"\\n\")\n",
    "print(\"RMSE at each cross-validation step\\n\", RMSE, \"\\n\")\n",
    "print(\"MAE M\", '%.4f' % np.mean(MAE), \"SD\", '%.4f' % np.std(MAE), \"\\n\")\n",
    "print(\"RMSE M\", '%.4f' % np.mean(RMSE), \"SD\", '%.4f' % np.std(RMSE))"
   ]
  }
 ],
 "metadata": {
  "kernelspec": {
   "display_name": "Python 3",
   "language": "python",
   "name": "python3"
  },
  "language_info": {
   "codemirror_mode": {
    "name": "ipython",
    "version": 3
   },
   "file_extension": ".py",
   "mimetype": "text/x-python",
   "name": "python",
   "nbconvert_exporter": "python",
   "pygments_lexer": "ipython3",
   "version": "3.7.4"
  },
  "widgets": {
   "state": {
    "c26d03b66add4e078d26695cab837033": {
     "views": [
      {
       "cell_index": 21
      }
     ]
    }
   },
   "version": "1.2.0"
  }
 },
 "nbformat": 4,
 "nbformat_minor": 2
}
