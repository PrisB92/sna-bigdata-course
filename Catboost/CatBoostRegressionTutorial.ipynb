{
 "cells": [
  {
   "cell_type": "markdown",
   "metadata": {},
   "source": [
    "# Python Catboost Tutorial - Regression"
   ]
  },
  {
   "cell_type": "markdown",
   "metadata": {},
   "source": [
    "Adapted from the Catboost repository."
   ]
  },
  {
   "cell_type": "markdown",
   "metadata": {},
   "source": [
    "### CatBoost installation\n",
    "If you have not already installed CatBoost: <br>\n",
    "pip install --upgrade catboost\n"
   ]
  },
  {
   "cell_type": "markdown",
   "metadata": {},
   "source": [
    "### Data Loading"
   ]
  },
  {
   "cell_type": "code",
   "execution_count": 1,
   "metadata": {},
   "outputs": [],
   "source": [
    "from catboost import CatBoostRegressor, Pool, cv\n",
    "from catboost.eval.catboost_evaluation import *\n",
    "\n",
    "import numpy as np\n",
    "import pandas as pd\n",
    "from collections import Counter\n",
    "from itertools import product\n",
    "\n",
    "from sklearn.model_selection import train_test_split\n",
    "from sklearn.metrics import mean_squared_error, mean_absolute_error\n",
    "\n",
    "from imblearn.over_sampling import SMOTE, SMOTENC"
   ]
  },
  {
   "cell_type": "code",
   "execution_count": 2,
   "metadata": {},
   "outputs": [],
   "source": [
    "#Define function to calculate the MAPE\n",
    "def mean_absolute_percentage_error(y_true, y_pred): \n",
    "    y_true, y_pred = np.array(y_true), np.array(y_pred)\n",
    "    return np.mean(np.abs((y_true - y_pred) / y_true)) * 100"
   ]
  },
  {
   "cell_type": "code",
   "execution_count": 4,
   "metadata": {},
   "outputs": [
    {
     "name": "stdout",
     "output_type": "stream",
     "text": [
      "DF shape (891, 9)\n"
     ]
    },
    {
     "data": {
      "text/html": [
       "<div>\n",
       "<style scoped>\n",
       "    .dataframe tbody tr th:only-of-type {\n",
       "        vertical-align: middle;\n",
       "    }\n",
       "\n",
       "    .dataframe tbody tr th {\n",
       "        vertical-align: top;\n",
       "    }\n",
       "\n",
       "    .dataframe thead th {\n",
       "        text-align: right;\n",
       "    }\n",
       "</style>\n",
       "<table border=\"1\" class=\"dataframe\">\n",
       "  <thead>\n",
       "    <tr style=\"text-align: right;\">\n",
       "      <th></th>\n",
       "      <th>Survived</th>\n",
       "      <th>Pclass</th>\n",
       "      <th>Sex</th>\n",
       "      <th>Age</th>\n",
       "      <th>SibSp</th>\n",
       "      <th>Parch</th>\n",
       "      <th>Fare</th>\n",
       "      <th>Cabin</th>\n",
       "      <th>Embarked</th>\n",
       "    </tr>\n",
       "  </thead>\n",
       "  <tbody>\n",
       "    <tr>\n",
       "      <th>0</th>\n",
       "      <td>0</td>\n",
       "      <td>3</td>\n",
       "      <td>male</td>\n",
       "      <td>22.0</td>\n",
       "      <td>1</td>\n",
       "      <td>0</td>\n",
       "      <td>7.2500</td>\n",
       "      <td>NaN</td>\n",
       "      <td>S</td>\n",
       "    </tr>\n",
       "    <tr>\n",
       "      <th>1</th>\n",
       "      <td>1</td>\n",
       "      <td>1</td>\n",
       "      <td>female</td>\n",
       "      <td>38.0</td>\n",
       "      <td>1</td>\n",
       "      <td>0</td>\n",
       "      <td>71.2833</td>\n",
       "      <td>C85</td>\n",
       "      <td>C</td>\n",
       "    </tr>\n",
       "    <tr>\n",
       "      <th>2</th>\n",
       "      <td>1</td>\n",
       "      <td>3</td>\n",
       "      <td>female</td>\n",
       "      <td>26.0</td>\n",
       "      <td>0</td>\n",
       "      <td>0</td>\n",
       "      <td>7.9250</td>\n",
       "      <td>NaN</td>\n",
       "      <td>S</td>\n",
       "    </tr>\n",
       "    <tr>\n",
       "      <th>3</th>\n",
       "      <td>1</td>\n",
       "      <td>1</td>\n",
       "      <td>female</td>\n",
       "      <td>35.0</td>\n",
       "      <td>1</td>\n",
       "      <td>0</td>\n",
       "      <td>53.1000</td>\n",
       "      <td>C123</td>\n",
       "      <td>S</td>\n",
       "    </tr>\n",
       "    <tr>\n",
       "      <th>4</th>\n",
       "      <td>0</td>\n",
       "      <td>3</td>\n",
       "      <td>male</td>\n",
       "      <td>35.0</td>\n",
       "      <td>0</td>\n",
       "      <td>0</td>\n",
       "      <td>8.0500</td>\n",
       "      <td>NaN</td>\n",
       "      <td>S</td>\n",
       "    </tr>\n",
       "  </tbody>\n",
       "</table>\n",
       "</div>"
      ],
      "text/plain": [
       "   Survived  Pclass     Sex   Age  SibSp  Parch     Fare Cabin Embarked\n",
       "0         0       3    male  22.0      1      0   7.2500   NaN        S\n",
       "1         1       1  female  38.0      1      0  71.2833   C85        C\n",
       "2         1       3  female  26.0      0      0   7.9250   NaN        S\n",
       "3         1       1  female  35.0      1      0  53.1000  C123        S\n",
       "4         0       3    male  35.0      0      0   8.0500   NaN        S"
      ]
     },
     "execution_count": 4,
     "metadata": {},
     "output_type": "execute_result"
    }
   ],
   "source": [
    "#Import Data\n",
    "df = pd.read_csv(\"https://raw.githubusercontent.com/iandreafc/sna-bigdata-course/master/Datasets/titanic.csv\")\n",
    "\n",
    "#See the imported dataset\n",
    "print(\"DF shape\", df.shape)\n",
    "df.head()\n"
   ]
  },
  {
   "cell_type": "markdown",
   "metadata": {},
   "source": [
    "### Feature Preparation\n",
    "First of all let's check how many missing values do we have:"
   ]
  },
  {
   "cell_type": "code",
   "execution_count": 5,
   "metadata": {},
   "outputs": [
    {
     "data": {
      "text/plain": [
       "Survived      0\n",
       "Pclass        0\n",
       "Sex           0\n",
       "Age         177\n",
       "SibSp         0\n",
       "Parch         0\n",
       "Fare          0\n",
       "Cabin       687\n",
       "Embarked      2\n",
       "dtype: int64"
      ]
     },
     "execution_count": 5,
     "metadata": {},
     "output_type": "execute_result"
    }
   ],
   "source": [
    "df.isnull().sum()"
   ]
  },
  {
   "cell_type": "markdown",
   "metadata": {},
   "source": [
    "As we cat see, **`Age`**, **`Cabin`** and **`Embarked`** indeed have some missing values, so let's fill them with some number way out of their distributions - so the model would be able to easily distinguish between them and take it into account:"
   ]
  },
  {
   "cell_type": "code",
   "execution_count": 6,
   "metadata": {},
   "outputs": [
    {
     "data": {
      "text/plain": [
       "Survived    0\n",
       "Pclass      0\n",
       "Sex         0\n",
       "Age         0\n",
       "SibSp       0\n",
       "Parch       0\n",
       "Fare        0\n",
       "Cabin       0\n",
       "Embarked    0\n",
       "dtype: int64"
      ]
     },
     "execution_count": 6,
     "metadata": {},
     "output_type": "execute_result"
    }
   ],
   "source": [
    "df.fillna(-999, inplace=True)\n",
    "df.isnull().sum()"
   ]
  },
  {
   "cell_type": "markdown",
   "metadata": {},
   "source": [
    "Now let's separate features and label variable, **to test regression we try to predict the ticket price**:"
   ]
  },
  {
   "cell_type": "code",
   "execution_count": 7,
   "metadata": {},
   "outputs": [],
   "source": [
    "X = df.drop('Fare', axis=1)\n",
    "y = df.Fare"
   ]
  },
  {
   "cell_type": "markdown",
   "metadata": {},
   "source": [
    "Pay attention that our features are of differnt types - some of them are numeric, some are categorical, and some are even just strings, which normally should be handled in some specific way (for example encoded with bag-of-words representation). But in our case we could treat these string features just as categorical one - all the heavy lifting is done inside CatBoost. How cool is that? :)"
   ]
  },
  {
   "cell_type": "code",
   "execution_count": 8,
   "metadata": {},
   "outputs": [
    {
     "name": "stdout",
     "output_type": "stream",
     "text": [
      "Survived      int64\n",
      "Pclass        int64\n",
      "Sex          object\n",
      "Age         float64\n",
      "SibSp         int64\n",
      "Parch         int64\n",
      "Cabin        object\n",
      "Embarked     object\n",
      "dtype: object\n"
     ]
    },
    {
     "data": {
      "text/plain": [
       "array([0, 1, 2, 4, 5, 6, 7], dtype=int64)"
      ]
     },
     "execution_count": 8,
     "metadata": {},
     "output_type": "execute_result"
    }
   ],
   "source": [
    "print(X.dtypes)\n",
    "\n",
    "categorical_features_indices = np.where(X.dtypes != np.float)[0]\n",
    "categorical_features_indices"
   ]
  },
  {
   "cell_type": "markdown",
   "metadata": {},
   "source": [
    "#### Encode Strings\n",
    "Not strictly necessary in Catboost, but useful for example for SMOTE."
   ]
  },
  {
   "cell_type": "code",
   "execution_count": 9,
   "metadata": {},
   "outputs": [
    {
     "data": {
      "text/html": [
       "<div>\n",
       "<style scoped>\n",
       "    .dataframe tbody tr th:only-of-type {\n",
       "        vertical-align: middle;\n",
       "    }\n",
       "\n",
       "    .dataframe tbody tr th {\n",
       "        vertical-align: top;\n",
       "    }\n",
       "\n",
       "    .dataframe thead th {\n",
       "        text-align: right;\n",
       "    }\n",
       "</style>\n",
       "<table border=\"1\" class=\"dataframe\">\n",
       "  <thead>\n",
       "    <tr style=\"text-align: right;\">\n",
       "      <th></th>\n",
       "      <th>Survived</th>\n",
       "      <th>Pclass</th>\n",
       "      <th>Sex</th>\n",
       "      <th>Age</th>\n",
       "      <th>SibSp</th>\n",
       "      <th>Parch</th>\n",
       "      <th>Cabin</th>\n",
       "      <th>Embarked</th>\n",
       "    </tr>\n",
       "  </thead>\n",
       "  <tbody>\n",
       "    <tr>\n",
       "      <th>0</th>\n",
       "      <td>0</td>\n",
       "      <td>3</td>\n",
       "      <td>1</td>\n",
       "      <td>22.0</td>\n",
       "      <td>1</td>\n",
       "      <td>0</td>\n",
       "      <td>0</td>\n",
       "      <td>3</td>\n",
       "    </tr>\n",
       "    <tr>\n",
       "      <th>1</th>\n",
       "      <td>1</td>\n",
       "      <td>1</td>\n",
       "      <td>0</td>\n",
       "      <td>38.0</td>\n",
       "      <td>1</td>\n",
       "      <td>0</td>\n",
       "      <td>82</td>\n",
       "      <td>1</td>\n",
       "    </tr>\n",
       "    <tr>\n",
       "      <th>2</th>\n",
       "      <td>1</td>\n",
       "      <td>3</td>\n",
       "      <td>0</td>\n",
       "      <td>26.0</td>\n",
       "      <td>0</td>\n",
       "      <td>0</td>\n",
       "      <td>0</td>\n",
       "      <td>3</td>\n",
       "    </tr>\n",
       "    <tr>\n",
       "      <th>3</th>\n",
       "      <td>1</td>\n",
       "      <td>1</td>\n",
       "      <td>0</td>\n",
       "      <td>35.0</td>\n",
       "      <td>1</td>\n",
       "      <td>0</td>\n",
       "      <td>56</td>\n",
       "      <td>3</td>\n",
       "    </tr>\n",
       "    <tr>\n",
       "      <th>4</th>\n",
       "      <td>0</td>\n",
       "      <td>3</td>\n",
       "      <td>1</td>\n",
       "      <td>35.0</td>\n",
       "      <td>0</td>\n",
       "      <td>0</td>\n",
       "      <td>0</td>\n",
       "      <td>3</td>\n",
       "    </tr>\n",
       "  </tbody>\n",
       "</table>\n",
       "</div>"
      ],
      "text/plain": [
       "   Survived  Pclass  Sex   Age  SibSp  Parch  Cabin  Embarked\n",
       "0         0       3    1  22.0      1      0      0         3\n",
       "1         1       1    0  38.0      1      0     82         1\n",
       "2         1       3    0  26.0      0      0      0         3\n",
       "3         1       1    0  35.0      1      0     56         3\n",
       "4         0       3    1  35.0      0      0      0         3"
      ]
     },
     "execution_count": 9,
     "metadata": {},
     "output_type": "execute_result"
    }
   ],
   "source": [
    "for var in ['Sex', 'Cabin', 'Embarked']:\n",
    "    X[var] = X[var].astype('category').cat.codes\n",
    "X.head()"
   ]
  },
  {
   "cell_type": "markdown",
   "metadata": {},
   "source": [
    "### Data Splitting\n",
    "Let's split the train data into training and validation sets."
   ]
  },
  {
   "cell_type": "code",
   "execution_count": 10,
   "metadata": {},
   "outputs": [],
   "source": [
    "X_train, X_test, y_train, y_test = train_test_split(X, y, train_size=0.75, random_state=14)"
   ]
  },
  {
   "cell_type": "markdown",
   "metadata": {},
   "source": [
    "### Parameters Tuning"
   ]
  },
  {
   "cell_type": "code",
   "execution_count": 11,
   "metadata": {},
   "outputs": [
    {
     "name": "stdout",
     "output_type": "stream",
     "text": [
      "# Combinations: 60\n"
     ]
    }
   ],
   "source": [
    "#Define a grid of parameters to test\n",
    "grid = {'learning_rate': [0.01, 0.03, 0.1, 0.2],\n",
    "        'depth': [4, 6, 10],\n",
    "        'l2_leaf_reg': [1, 3, 5, 7, 9],\n",
    "        }\n",
    "\n",
    "#Count all possible combinations\n",
    "print(\"# Combinations:\", len([dict(zip(grid.keys(),v)) for v in product(*grid.values())]))"
   ]
  },
  {
   "cell_type": "code",
   "execution_count": 12,
   "metadata": {},
   "outputs": [
    {
     "name": "stdout",
     "output_type": "stream",
     "text": [
      "0:\tloss: 56.0010108\tbest: 56.0010108 (0)\ttotal: 659ms\tremaining: 38.9s\n",
      "1:\tloss: 55.0748455\tbest: 55.0748455 (1)\ttotal: 1.22s\tremaining: 35.3s\n",
      "2:\tloss: 54.7943036\tbest: 54.7943036 (2)\ttotal: 1.75s\tremaining: 33.3s\n",
      "3:\tloss: 54.5304768\tbest: 54.5304768 (3)\ttotal: 2.32s\tremaining: 32.5s\n",
      "4:\tloss: 56.5582544\tbest: 54.5304768 (3)\ttotal: 3.06s\tremaining: 33.7s\n",
      "5:\tloss: 56.1316956\tbest: 54.5304768 (3)\ttotal: 3.67s\tremaining: 33s\n",
      "6:\tloss: 55.2493711\tbest: 54.5304768 (3)\ttotal: 4.35s\tremaining: 32.9s\n",
      "7:\tloss: 55.2764053\tbest: 54.5304768 (3)\ttotal: 4.87s\tremaining: 31.7s\n",
      "8:\tloss: 56.9629922\tbest: 54.5304768 (3)\ttotal: 5.43s\tremaining: 30.8s\n",
      "9:\tloss: 56.5150976\tbest: 54.5304768 (3)\ttotal: 5.96s\tremaining: 29.8s\n",
      "10:\tloss: 55.7352622\tbest: 54.5304768 (3)\ttotal: 6.5s\tremaining: 29s\n",
      "11:\tloss: 55.8818405\tbest: 54.5304768 (3)\ttotal: 7.03s\tremaining: 28.1s\n",
      "12:\tloss: 56.6578179\tbest: 54.5304768 (3)\ttotal: 7.65s\tremaining: 27.7s\n",
      "13:\tloss: 56.7010579\tbest: 54.5304768 (3)\ttotal: 8.3s\tremaining: 27.3s\n",
      "14:\tloss: 56.8905418\tbest: 54.5304768 (3)\ttotal: 8.9s\tremaining: 26.7s\n",
      "15:\tloss: 55.7811892\tbest: 54.5304768 (3)\ttotal: 9.48s\tremaining: 26.1s\n",
      "16:\tloss: 57.1470963\tbest: 54.5304768 (3)\ttotal: 10s\tremaining: 25.4s\n",
      "17:\tloss: 56.7959783\tbest: 54.5304768 (3)\ttotal: 10.5s\tremaining: 24.6s\n",
      "18:\tloss: 56.7936863\tbest: 54.5304768 (3)\ttotal: 11.1s\tremaining: 23.9s\n",
      "19:\tloss: 56.0297511\tbest: 54.5304768 (3)\ttotal: 11.6s\tremaining: 23.3s\n",
      "20:\tloss: 56.2158961\tbest: 54.5304768 (3)\ttotal: 12.4s\tremaining: 23s\n",
      "21:\tloss: 56.2588042\tbest: 54.5304768 (3)\ttotal: 13.2s\tremaining: 22.8s\n",
      "22:\tloss: 55.6528153\tbest: 54.5304768 (3)\ttotal: 14s\tremaining: 22.5s\n",
      "23:\tloss: 56.1655300\tbest: 54.5304768 (3)\ttotal: 14.8s\tremaining: 22.1s\n",
      "24:\tloss: 57.1085008\tbest: 54.5304768 (3)\ttotal: 15.5s\tremaining: 21.7s\n",
      "25:\tloss: 57.3652975\tbest: 54.5304768 (3)\ttotal: 16.2s\tremaining: 21.2s\n",
      "26:\tloss: 56.6678121\tbest: 54.5304768 (3)\ttotal: 17s\tremaining: 20.7s\n",
      "27:\tloss: 55.1166398\tbest: 54.5304768 (3)\ttotal: 17.7s\tremaining: 20.2s\n",
      "28:\tloss: 57.3929078\tbest: 54.5304768 (3)\ttotal: 18.5s\tremaining: 19.8s\n",
      "29:\tloss: 56.8671891\tbest: 54.5304768 (3)\ttotal: 19.2s\tremaining: 19.2s\n",
      "30:\tloss: 57.3464318\tbest: 54.5304768 (3)\ttotal: 20s\tremaining: 18.7s\n",
      "31:\tloss: 55.3087829\tbest: 54.5304768 (3)\ttotal: 20.8s\tremaining: 18.2s\n",
      "32:\tloss: 56.7263435\tbest: 54.5304768 (3)\ttotal: 21.6s\tremaining: 17.6s\n",
      "33:\tloss: 56.9371559\tbest: 54.5304768 (3)\ttotal: 22.3s\tremaining: 17.1s\n",
      "34:\tloss: 56.7786102\tbest: 54.5304768 (3)\ttotal: 23.1s\tremaining: 16.5s\n",
      "35:\tloss: 56.7696618\tbest: 54.5304768 (3)\ttotal: 23.9s\tremaining: 15.9s\n",
      "36:\tloss: 57.4025167\tbest: 54.5304768 (3)\ttotal: 24.6s\tremaining: 15.3s\n",
      "37:\tloss: 57.1296187\tbest: 54.5304768 (3)\ttotal: 25.4s\tremaining: 14.7s\n",
      "38:\tloss: 57.3006905\tbest: 54.5304768 (3)\ttotal: 26.2s\tremaining: 14.1s\n",
      "39:\tloss: 56.4778402\tbest: 54.5304768 (3)\ttotal: 27.6s\tremaining: 13.8s\n",
      "40:\tloss: 60.1403067\tbest: 54.5304768 (3)\ttotal: 31.2s\tremaining: 14.5s\n",
      "41:\tloss: 60.0970133\tbest: 54.5304768 (3)\ttotal: 35.3s\tremaining: 15.1s\n",
      "42:\tloss: 60.2010448\tbest: 54.5304768 (3)\ttotal: 39.7s\tremaining: 15.7s\n",
      "43:\tloss: 59.8375171\tbest: 54.5304768 (3)\ttotal: 44.1s\tremaining: 16s\n",
      "44:\tloss: 60.0935152\tbest: 54.5304768 (3)\ttotal: 47.3s\tremaining: 15.8s\n",
      "45:\tloss: 59.4928896\tbest: 54.5304768 (3)\ttotal: 51.3s\tremaining: 15.6s\n",
      "46:\tloss: 58.7587513\tbest: 54.5304768 (3)\ttotal: 55.7s\tremaining: 15.4s\n",
      "47:\tloss: 59.0939540\tbest: 54.5304768 (3)\ttotal: 1m\tremaining: 15s\n",
      "48:\tloss: 59.4240544\tbest: 54.5304768 (3)\ttotal: 1m 3s\tremaining: 14.2s\n",
      "49:\tloss: 59.5756925\tbest: 54.5304768 (3)\ttotal: 1m 6s\tremaining: 13.4s\n",
      "50:\tloss: 59.1499466\tbest: 54.5304768 (3)\ttotal: 1m 11s\tremaining: 12.6s\n",
      "51:\tloss: 59.2847244\tbest: 54.5304768 (3)\ttotal: 1m 15s\tremaining: 11.7s\n",
      "52:\tloss: 59.5107092\tbest: 54.5304768 (3)\ttotal: 1m 18s\tremaining: 10.4s\n",
      "53:\tloss: 56.7645650\tbest: 54.5304768 (3)\ttotal: 1m 22s\tremaining: 9.2s\n",
      "54:\tloss: 57.7321164\tbest: 54.5304768 (3)\ttotal: 1m 27s\tremaining: 7.91s\n",
      "55:\tloss: 59.0125414\tbest: 54.5304768 (3)\ttotal: 1m 31s\tremaining: 6.52s\n",
      "56:\tloss: 59.9547821\tbest: 54.5304768 (3)\ttotal: 1m 34s\tremaining: 4.97s\n",
      "57:\tloss: 57.7521396\tbest: 54.5304768 (3)\ttotal: 1m 38s\tremaining: 3.4s\n",
      "58:\tloss: 58.0880429\tbest: 54.5304768 (3)\ttotal: 1m 42s\tremaining: 1.74s\n",
      "59:\tloss: 59.2549200\tbest: 54.5304768 (3)\ttotal: 1m 47s\tremaining: 0us\n",
      "Estimating final quality...\n"
     ]
    },
    {
     "data": {
      "text/plain": [
       "{'depth': 4, 'l2_leaf_reg': 1, 'learning_rate': 0.2}"
      ]
     },
     "execution_count": 12,
     "metadata": {},
     "output_type": "execute_result"
    }
   ],
   "source": [
    "#Define Model\n",
    "model = CatBoostRegressor()\n",
    "\n",
    "#Grid Search\n",
    "#Default cross-validation is 3-fold\n",
    "grid_search_result = model.grid_search(grid, X=X_train, y=y_train, cv=3)\n",
    "bestparam = grid_search_result[\"params\"]\n",
    "bestparam"
   ]
  },
  {
   "cell_type": "code",
   "execution_count": 13,
   "metadata": {},
   "outputs": [
    {
     "name": "stdout",
     "output_type": "stream",
     "text": [
      "{'loss_function': 'RMSE', 'depth': 4, 'l2_leaf_reg': 1, 'learning_rate': 0.2, 'eval_metric': 'RMSE'}\n"
     ]
    }
   ],
   "source": [
    "#Set best params\n",
    "model = CatBoostRegressor()\n",
    "\n",
    "#Depending on your objective you can also customize the evaluation metric\n",
    "bestparam[\"eval_metric\"] = \"RMSE\"\n",
    "\n",
    "model.set_params(**bestparam)\n",
    "print(model.get_params())"
   ]
  },
  {
   "cell_type": "markdown",
   "metadata": {},
   "source": [
    "### Model Training\n",
    "Retaining the best model and with early stopping, to avoid overfit.\n",
    "**In real cases, we need an external test set, not used for training or validation (early stopping). That dataset is the one to be used to evaluate the final moldel.**"
   ]
  },
  {
   "cell_type": "code",
   "execution_count": 14,
   "metadata": {},
   "outputs": [
    {
     "name": "stdout",
     "output_type": "stream",
     "text": [
      "(668, 8) (501, 8) (167, 8)\n"
     ]
    }
   ],
   "source": [
    "#Furter split the train set into final_train and validation sets\n",
    "X_train_final, X_validation, y_train_final, y_validation = train_test_split(X_train, y_train,\\\n",
    "                                                                            train_size=0.75, random_state=14)\n",
    "\n",
    "print(X_train.shape, X_train_final.shape, X_validation.shape)"
   ]
  },
  {
   "cell_type": "markdown",
   "metadata": {},
   "source": [
    "Use early sotopping rounds and validation set, to stop after K iterations with no improvement of the evaluation metric."
   ]
  },
  {
   "cell_type": "code",
   "execution_count": 15,
   "metadata": {},
   "outputs": [
    {
     "name": "stdout",
     "output_type": "stream",
     "text": [
      "0:\tlearn: 50.7355258\ttest: 32.9638675\tbest: 32.9638675 (0)\ttotal: 11.6ms\tremaining: 11.6s\n",
      "1:\tlearn: 47.9541212\ttest: 29.9682461\tbest: 29.9682461 (1)\ttotal: 21.4ms\tremaining: 10.7s\n",
      "2:\tlearn: 45.4620514\ttest: 28.0218200\tbest: 28.0218200 (2)\ttotal: 27.3ms\tremaining: 9.06s\n",
      "3:\tlearn: 43.8494195\ttest: 27.1830108\tbest: 27.1830108 (3)\ttotal: 31.2ms\tremaining: 7.78s\n",
      "4:\tlearn: 42.8640474\ttest: 26.5177987\tbest: 26.5177987 (4)\ttotal: 38.5ms\tremaining: 7.67s\n",
      "5:\tlearn: 41.6523581\ttest: 26.0724848\tbest: 26.0724848 (5)\ttotal: 40.1ms\tremaining: 6.64s\n",
      "6:\tlearn: 41.0727002\ttest: 25.7819060\tbest: 25.7819060 (6)\ttotal: 43.8ms\tremaining: 6.22s\n",
      "7:\tlearn: 40.6188271\ttest: 25.5462840\tbest: 25.5462840 (7)\ttotal: 50.5ms\tremaining: 6.27s\n",
      "8:\tlearn: 39.7695883\ttest: 25.7766185\tbest: 25.5462840 (7)\ttotal: 56ms\tremaining: 6.17s\n",
      "9:\tlearn: 39.3930822\ttest: 26.0255521\tbest: 25.5462840 (7)\ttotal: 62.5ms\tremaining: 6.19s\n",
      "10:\tlearn: 39.2830589\ttest: 25.9968761\tbest: 25.5462840 (7)\ttotal: 65.8ms\tremaining: 5.92s\n",
      "11:\tlearn: 39.0569479\ttest: 25.9852572\tbest: 25.5462840 (7)\ttotal: 69.6ms\tremaining: 5.73s\n",
      "12:\tlearn: 38.8020166\ttest: 26.4159623\tbest: 25.5462840 (7)\ttotal: 70.9ms\tremaining: 5.38s\n",
      "13:\tlearn: 36.9170727\ttest: 26.6962168\tbest: 25.5462840 (7)\ttotal: 75.2ms\tremaining: 5.29s\n",
      "14:\tlearn: 36.6108331\ttest: 27.0919344\tbest: 25.5462840 (7)\ttotal: 80.7ms\tremaining: 5.3s\n",
      "15:\tlearn: 36.4933726\ttest: 27.0370303\tbest: 25.5462840 (7)\ttotal: 86.2ms\tremaining: 5.3s\n",
      "16:\tlearn: 36.4929041\ttest: 27.0386151\tbest: 25.5462840 (7)\ttotal: 86.8ms\tremaining: 5.02s\n",
      "17:\tlearn: 36.4395942\ttest: 27.0487727\tbest: 25.5462840 (7)\ttotal: 87.8ms\tremaining: 4.79s\n",
      "18:\tlearn: 36.0842968\ttest: 27.0076004\tbest: 25.5462840 (7)\ttotal: 91ms\tremaining: 4.7s\n",
      "19:\tlearn: 36.0221775\ttest: 27.0823901\tbest: 25.5462840 (7)\ttotal: 92ms\tremaining: 4.5s\n",
      "20:\tlearn: 34.2814177\ttest: 27.8022978\tbest: 25.5462840 (7)\ttotal: 97.4ms\tremaining: 4.54s\n",
      "21:\tlearn: 34.1697939\ttest: 27.8913445\tbest: 25.5462840 (7)\ttotal: 101ms\tremaining: 4.5s\n",
      "22:\tlearn: 34.0038024\ttest: 27.8634143\tbest: 25.5462840 (7)\ttotal: 104ms\tremaining: 4.44s\n",
      "23:\tlearn: 33.8374337\ttest: 27.6978738\tbest: 25.5462840 (7)\ttotal: 108ms\tremaining: 4.41s\n",
      "24:\tlearn: 33.4069955\ttest: 27.8929122\tbest: 25.5462840 (7)\ttotal: 115ms\tremaining: 4.47s\n",
      "25:\tlearn: 33.3634183\ttest: 27.9378148\tbest: 25.5462840 (7)\ttotal: 116ms\tremaining: 4.33s\n",
      "26:\tlearn: 33.1722041\ttest: 27.9622980\tbest: 25.5462840 (7)\ttotal: 119ms\tremaining: 4.29s\n",
      "27:\tlearn: 33.1625287\ttest: 27.9836773\tbest: 25.5462840 (7)\ttotal: 120ms\tremaining: 4.16s\n",
      "28:\tlearn: 33.1623300\ttest: 27.9842266\tbest: 25.5462840 (7)\ttotal: 120ms\tremaining: 4.03s\n",
      "29:\tlearn: 33.0388790\ttest: 28.2088098\tbest: 25.5462840 (7)\ttotal: 124ms\tremaining: 4.02s\n",
      "30:\tlearn: 32.9743898\ttest: 28.1642431\tbest: 25.5462840 (7)\ttotal: 128ms\tremaining: 3.99s\n",
      "31:\tlearn: 32.9190194\ttest: 28.2831507\tbest: 25.5462840 (7)\ttotal: 129ms\tremaining: 3.9s\n",
      "32:\tlearn: 32.8719971\ttest: 28.3045983\tbest: 25.5462840 (7)\ttotal: 130ms\tremaining: 3.82s\n",
      "33:\tlearn: 32.7692961\ttest: 28.4404770\tbest: 25.5462840 (7)\ttotal: 152ms\tremaining: 4.32s\n",
      "34:\tlearn: 32.6557248\ttest: 28.4228423\tbest: 25.5462840 (7)\ttotal: 156ms\tremaining: 4.3s\n",
      "35:\tlearn: 32.5431860\ttest: 28.4400018\tbest: 25.5462840 (7)\ttotal: 160ms\tremaining: 4.29s\n",
      "36:\tlearn: 32.3920032\ttest: 28.4207261\tbest: 25.5462840 (7)\ttotal: 164ms\tremaining: 4.27s\n",
      "37:\tlearn: 30.5501974\ttest: 29.9976986\tbest: 25.5462840 (7)\ttotal: 170ms\tremaining: 4.31s\n",
      "38:\tlearn: 30.5244800\ttest: 29.9957501\tbest: 25.5462840 (7)\ttotal: 172ms\tremaining: 4.23s\n",
      "39:\tlearn: 29.9691594\ttest: 30.5904527\tbest: 25.5462840 (7)\ttotal: 178ms\tremaining: 4.27s\n",
      "40:\tlearn: 29.8422298\ttest: 30.6730618\tbest: 25.5462840 (7)\ttotal: 181ms\tremaining: 4.24s\n",
      "41:\tlearn: 29.8305512\ttest: 30.6996179\tbest: 25.5462840 (7)\ttotal: 182ms\tremaining: 4.16s\n",
      "42:\tlearn: 29.7968639\ttest: 30.6086040\tbest: 25.5462840 (7)\ttotal: 184ms\tremaining: 4.1s\n",
      "43:\tlearn: 29.7675236\ttest: 30.6903362\tbest: 25.5462840 (7)\ttotal: 188ms\tremaining: 4.08s\n",
      "44:\tlearn: 29.7011806\ttest: 30.6660433\tbest: 25.5462840 (7)\ttotal: 189ms\tremaining: 4.01s\n",
      "45:\tlearn: 27.9694026\ttest: 31.9396118\tbest: 25.5462840 (7)\ttotal: 193ms\tremaining: 3.99s\n",
      "46:\tlearn: 27.9686356\ttest: 31.9406227\tbest: 25.5462840 (7)\ttotal: 201ms\tremaining: 4.08s\n",
      "47:\tlearn: 27.9615536\ttest: 31.9690918\tbest: 25.5462840 (7)\ttotal: 202ms\tremaining: 4.01s\n",
      "48:\tlearn: 27.8877150\ttest: 31.9760733\tbest: 25.5462840 (7)\ttotal: 204ms\tremaining: 3.95s\n",
      "49:\tlearn: 27.7660991\ttest: 32.2109994\tbest: 25.5462840 (7)\ttotal: 212ms\tremaining: 4.03s\n",
      "50:\tlearn: 27.7350741\ttest: 32.2105802\tbest: 25.5462840 (7)\ttotal: 220ms\tremaining: 4.1s\n",
      "51:\tlearn: 26.4780598\ttest: 33.3733889\tbest: 25.5462840 (7)\ttotal: 226ms\tremaining: 4.12s\n",
      "52:\tlearn: 26.3933681\ttest: 33.3863432\tbest: 25.5462840 (7)\ttotal: 240ms\tremaining: 4.3s\n",
      "53:\tlearn: 26.2161464\ttest: 33.2140569\tbest: 25.5462840 (7)\ttotal: 242ms\tremaining: 4.23s\n",
      "54:\tlearn: 26.1645800\ttest: 33.1955210\tbest: 25.5462840 (7)\ttotal: 246ms\tremaining: 4.22s\n",
      "55:\tlearn: 26.1333564\ttest: 33.1532210\tbest: 25.5462840 (7)\ttotal: 248ms\tremaining: 4.17s\n",
      "56:\tlearn: 26.0411820\ttest: 33.1918868\tbest: 25.5462840 (7)\ttotal: 251ms\tremaining: 4.16s\n",
      "57:\tlearn: 25.9403134\ttest: 33.4224964\tbest: 25.5462840 (7)\ttotal: 256ms\tremaining: 4.15s\n",
      "58:\tlearn: 24.7761065\ttest: 34.8773729\tbest: 25.5462840 (7)\ttotal: 263ms\tremaining: 4.2s\n",
      "59:\tlearn: 24.7340095\ttest: 34.8765125\tbest: 25.5462840 (7)\ttotal: 269ms\tremaining: 4.21s\n",
      "60:\tlearn: 24.7289280\ttest: 34.8783430\tbest: 25.5462840 (7)\ttotal: 273ms\tremaining: 4.2s\n",
      "61:\tlearn: 24.4036435\ttest: 34.8565865\tbest: 25.5462840 (7)\ttotal: 279ms\tremaining: 4.23s\n",
      "62:\tlearn: 24.3327960\ttest: 34.8357904\tbest: 25.5462840 (7)\ttotal: 283ms\tremaining: 4.21s\n",
      "63:\tlearn: 24.1289977\ttest: 34.8075158\tbest: 25.5462840 (7)\ttotal: 284ms\tremaining: 4.15s\n",
      "64:\tlearn: 23.6888444\ttest: 35.3694456\tbest: 25.5462840 (7)\ttotal: 293ms\tremaining: 4.21s\n",
      "65:\tlearn: 23.6611992\ttest: 35.3627683\tbest: 25.5462840 (7)\ttotal: 294ms\tremaining: 4.16s\n",
      "66:\tlearn: 23.5502695\ttest: 35.4110179\tbest: 25.5462840 (7)\ttotal: 297ms\tremaining: 4.14s\n",
      "67:\tlearn: 22.9374178\ttest: 36.2693205\tbest: 25.5462840 (7)\ttotal: 301ms\tremaining: 4.13s\n",
      "68:\tlearn: 22.5983565\ttest: 36.2404266\tbest: 25.5462840 (7)\ttotal: 302ms\tremaining: 4.08s\n",
      "69:\tlearn: 22.5898921\ttest: 36.2369682\tbest: 25.5462840 (7)\ttotal: 306ms\tremaining: 4.07s\n",
      "70:\tlearn: 22.1659618\ttest: 36.9612420\tbest: 25.5462840 (7)\ttotal: 308ms\tremaining: 4.03s\n",
      "71:\tlearn: 22.1317426\ttest: 36.9685072\tbest: 25.5462840 (7)\ttotal: 310ms\tremaining: 3.99s\n",
      "72:\tlearn: 21.8240319\ttest: 37.5803183\tbest: 25.5462840 (7)\ttotal: 311ms\tremaining: 3.95s\n",
      "73:\tlearn: 21.6508618\ttest: 37.4946243\tbest: 25.5462840 (7)\ttotal: 312ms\tremaining: 3.91s\n",
      "74:\tlearn: 21.5402144\ttest: 37.5714050\tbest: 25.5462840 (7)\ttotal: 319ms\tremaining: 3.94s\n",
      "75:\tlearn: 21.4442958\ttest: 37.7406043\tbest: 25.5462840 (7)\ttotal: 321ms\tremaining: 3.9s\n",
      "76:\tlearn: 21.3657364\ttest: 37.7196489\tbest: 25.5462840 (7)\ttotal: 327ms\tremaining: 3.92s\n",
      "77:\tlearn: 21.1447617\ttest: 38.2999757\tbest: 25.5462840 (7)\ttotal: 328ms\tremaining: 3.88s\n",
      "78:\tlearn: 20.9433552\ttest: 38.3608384\tbest: 25.5462840 (7)\ttotal: 334ms\tremaining: 3.89s\n",
      "79:\tlearn: 20.8772094\ttest: 38.5638508\tbest: 25.5462840 (7)\ttotal: 339ms\tremaining: 3.9s\n",
      "80:\tlearn: 20.8371980\ttest: 38.5418765\tbest: 25.5462840 (7)\ttotal: 344ms\tremaining: 3.9s\n",
      "81:\tlearn: 20.7998957\ttest: 38.5544906\tbest: 25.5462840 (7)\ttotal: 345ms\tremaining: 3.87s\n",
      "82:\tlearn: 20.7126961\ttest: 38.6593543\tbest: 25.5462840 (7)\ttotal: 350ms\tremaining: 3.87s\n",
      "83:\tlearn: 20.6836282\ttest: 38.6570550\tbest: 25.5462840 (7)\ttotal: 351ms\tremaining: 3.83s\n",
      "84:\tlearn: 20.6006525\ttest: 38.7120286\tbest: 25.5462840 (7)\ttotal: 355ms\tremaining: 3.82s\n",
      "85:\tlearn: 20.5240617\ttest: 38.8184309\tbest: 25.5462840 (7)\ttotal: 358ms\tremaining: 3.81s\n",
      "86:\tlearn: 20.4670790\ttest: 38.8284053\tbest: 25.5462840 (7)\ttotal: 361ms\tremaining: 3.79s\n",
      "87:\tlearn: 20.4418245\ttest: 38.7918389\tbest: 25.5462840 (7)\ttotal: 368ms\tremaining: 3.81s\n",
      "Stopped by overfitting detector  (80 iterations wait)\n",
      "\n",
      "bestTest = 25.54628401\n",
      "bestIteration = 7\n",
      "\n",
      "Shrink model to first 8 iterations.\n"
     ]
    },
    {
     "data": {
      "text/plain": [
       "<catboost.core.CatBoostRegressor at 0x2c489bb55c8>"
      ]
     },
     "execution_count": 15,
     "metadata": {},
     "output_type": "execute_result"
    }
   ],
   "source": [
    "model.fit(X_train_final, y_train_final, cat_features=categorical_features_indices,\\\n",
    "          eval_set=(X_validation, y_validation), early_stopping_rounds = 80,\\\n",
    "          use_best_model=True, logging_level = \"Verbose\")"
   ]
  },
  {
   "cell_type": "markdown",
   "metadata": {},
   "source": [
    "With this we can see that the best **RMSE** value of **25.55** (on validation set) was acheived at step **7** with no futher improvement after **80** iterations (so the training stopped). We now retain this model as the **best model**."
   ]
  },
  {
   "cell_type": "markdown",
   "metadata": {},
   "source": [
    "### Model Predictions and Fit"
   ]
  },
  {
   "cell_type": "code",
   "execution_count": 16,
   "metadata": {},
   "outputs": [
    {
     "name": "stdout",
     "output_type": "stream",
     "text": [
      "MAE: 16.4852\n",
      "MAPE: inf\n",
      "RMSE: 29.1040\n",
      "\n",
      "MAPE(replaced zeros): 162.8685 %\n",
      "\n",
      "y_test M and SD (for comparison)\n",
      "31.5728 44.1218\n"
     ]
    },
    {
     "name": "stderr",
     "output_type": "stream",
     "text": [
      "C:\\Users\\Andrea\\Anaconda3\\lib\\site-packages\\ipykernel_launcher.py:4: RuntimeWarning: divide by zero encountered in true_divide\n",
      "  after removing the cwd from sys.path.\n"
     ]
    }
   ],
   "source": [
    "#Predict on the original Test Set\n",
    "predictions = model.predict(X_test)\n",
    "truevalues = np.array(y_test)\n",
    "\n",
    "#Calculate MAE, MAPE (if no 0 values) and RMSE\n",
    "print(\"MAE:\", '%.4f' % mean_absolute_error(truevalues, predictions))\n",
    "print(\"MAPE:\", '%.4f' % mean_absolute_percentage_error(truevalues, predictions))\n",
    "print(\"RMSE:\", '%.4f' %  np.sqrt(mean_squared_error(truevalues, predictions)))\n",
    "\n",
    "#Replace zero (only for demonstrational purpose) and calculate MAPE\n",
    "truevalues[truevalues == 0] = 1\n",
    "print(\"\\nMAPE(replaced zeros):\", '%.4f' % mean_absolute_percentage_error(truevalues, predictions), \"%\")\n",
    "\n",
    "#Compare with variable, just to get an idea\n",
    "print(\"\\ny_test M and SD (for comparison)\")\n",
    "print('%.4f' % y_test.mean(),'%.4f' % y_test.std())"
   ]
  },
  {
   "cell_type": "markdown",
   "metadata": {},
   "source": [
    "### Monte Carlo Cross-Validation\n",
    "Now repeat the process 1,000 times and provide average fit statistics, with their standard deviation."
   ]
  },
  {
   "cell_type": "code",
   "execution_count": 17,
   "metadata": {},
   "outputs": [],
   "source": [
    "#Save accuracy and kappa scores in a list\n",
    "MAE, RMSE = [], []\n",
    "\n",
    "#For demonstrational purposes we now reapet it 10 times\n",
    "for i in range(0,10):\n",
    "    #Split with no random seed in train, validation and test set\n",
    "    X_train, X_test, y_train, y_test = train_test_split(X, y, train_size=0.75)\n",
    "    X_train_final, X_validation, y_train_final, y_validation = train_test_split(X_train, y_train, train_size=0.75)\n",
    "    \n",
    "    model.fit(X_train_final, y_train_final, cat_features=categorical_features_indices, \\\n",
    "              eval_set=(X_validation, y_validation), early_stopping_rounds = 80, use_best_model=True, \\\n",
    "              logging_level = \"Silent\")\n",
    "    \n",
    "    predictions = model.predict(X_test)\n",
    "    truevalues = np.array(y_test)\n",
    "    \n",
    "    MAE.append(mean_absolute_error(truevalues, predictions))\n",
    "    RMSE.append(np.sqrt(mean_squared_error(truevalues, predictions)))"
   ]
  },
  {
   "cell_type": "code",
   "execution_count": 18,
   "metadata": {},
   "outputs": [
    {
     "name": "stdout",
     "output_type": "stream",
     "text": [
      "MAE at each cross-validation step\n",
      " [11.499690100141825, 13.437472463230856, 14.092179277479291, 15.632195515073683, 15.137832400236556, 13.985713216039198, 13.512252369686545, 13.429579187023693, 14.531671424713277, 13.961951194091617] \n",
      "\n",
      "RMSE at each cross-validation step\n",
      " [26.743695487654403, 36.3285772054398, 38.098133795600376, 30.70883385132934, 40.07287608204607, 38.04404761707792, 37.21866662393993, 26.85827714879597, 47.608030501326496, 24.097377393774458] \n",
      "\n",
      "MAE M 13.9221 SD 1.0641 \n",
      "\n",
      "RMSE M 34.5779 SD 6.9297\n"
     ]
    }
   ],
   "source": [
    "print(\"MAE at each cross-validation step\\n\", MAE, \"\\n\")\n",
    "print(\"RMSE at each cross-validation step\\n\", RMSE, \"\\n\")\n",
    "print(\"MAE M\", '%.4f' % np.mean(MAE), \"SD\", '%.4f' % np.std(MAE), \"\\n\")\n",
    "print(\"RMSE M\", '%.4f' % np.mean(RMSE), \"SD\", '%.4f' % np.std(RMSE))"
   ]
  }
 ],
 "metadata": {
  "kernelspec": {
   "display_name": "Python 3",
   "language": "python",
   "name": "python3"
  },
  "language_info": {
   "codemirror_mode": {
    "name": "ipython",
    "version": 3
   },
   "file_extension": ".py",
   "mimetype": "text/x-python",
   "name": "python",
   "nbconvert_exporter": "python",
   "pygments_lexer": "ipython3",
   "version": "3.7.4"
  },
  "widgets": {
   "state": {
    "c26d03b66add4e078d26695cab837033": {
     "views": [
      {
       "cell_index": 21
      }
     ]
    }
   },
   "version": "1.2.0"
  }
 },
 "nbformat": 4,
 "nbformat_minor": 2
}
