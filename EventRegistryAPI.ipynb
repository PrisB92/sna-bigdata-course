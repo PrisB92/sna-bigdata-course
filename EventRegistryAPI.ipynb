{
 "cells": [
  {
   "cell_type": "markdown",
   "metadata": {},
   "source": [
    "## Example Python script for downloading articles from the Event Registry database"
   ]
  },
  {
   "cell_type": "markdown",
   "metadata": {},
   "source": [
    "As a first step we import all necessary libraries and define a search query."
   ]
  },
  {
   "cell_type": "code",
   "execution_count": null,
   "metadata": {},
   "outputs": [],
   "source": [
    "import csv, os\n",
    "from eventregistry import *\n",
    "import datetime\n",
    "\n",
    "#Please register on eventregistry.org and update the API Key.\n",
    "er = EventRegistry(apiKey = \"PUT YOUR API KEY HERE\")\n",
    "\n",
    "## TWO ALTERNATIVES\n",
    "#1) QUERY BASED ON ARTICLE CATEGORIES\n",
    "q = QueryArticlesIter(conceptUri = QueryItems.OR([er.getConceptUri(\"Politics\"),er.getConceptUri(\"Election\"),er.getConceptUri(\"Referendum\"),er.getConceptUri(\"Elections in Italy\"),\\\n",
    "                      er.getConceptUri(\"Political party\"),er.getConceptUri(\"Political campaign\"),er.getConceptUri(\"Referendums in Italy\"),er.getConceptUri(\"Politician\"),er.getConceptUri(\"General election\")]),\\\n",
    "                      dateStart = datetime.date(2016, 10, 3), dateEnd = datetime.date(2016, 12, 4),\\\n",
    "                      isDuplicateFilter = \"skipDuplicates\",\\\n",
    "                      lang = \"ita\")\n",
    "\n",
    "#2) QUERY BASED ON KEYWORDS CONTAINED IN THE ARTICLE TEXT\n",
    "q = QueryArticlesIter(keywords =QueryItems.AND([\"salvini\", \"carola\"]), \\\n",
    "                      dateStart = datetime.date(2019, 7, 1), dateEnd = datetime.date(2019, 7, 19),\\\n",
    "                      isDuplicateFilter = \"skipDuplicates\",\\\n",
    "                      lang = \"ita\")\n",
    "print(q)"
   ]
  },
  {
   "cell_type": "markdown",
   "metadata": {},
   "source": [
    "Now we can run the search query and save the data in a csv file."
   ]
  },
  {
   "cell_type": "code",
   "execution_count": null,
   "metadata": {},
   "outputs": [],
   "source": [
    "#Create a CSV file\n",
    "ff = open(\"C:/Users/YOUR USER NAME/Desktop/XXX.csv\",'w', encoding='utf8', newline='')\n",
    "wr = csv.writer(ff, delimiter = '|', quotechar = '^')\n",
    "wr.writerow(['Title', 'Body', 'Date', 'Language', 'Source', 'Category', 'Concepts', 'Sentiment', 'IsDuplicate', 'Url'])\n",
    "\n",
    "#Sort articles by date and define their max number (multiples of 100)\n",
    "for art in q.execQuery(er, sortBy = \"date\", maxItems = 10000):  \n",
    "    if 'title' in art.keys():\n",
    "        title = art['title']\n",
    "        title = title.replace(\",\", \" \").replace('\"', \" \").replace('\\r', ' ').replace('\\n', ' ')\n",
    "    else:\n",
    "        title = \"\"\n",
    "    \n",
    "    if 'body' in art.keys():\n",
    "        body = art['body']\n",
    "        body = body.replace(\",\", \" \").replace('\"', \" \").replace('\\r', ' ').replace('\\n', ' ')\n",
    "    else:\n",
    "        body = \"\"\n",
    "        \n",
    "    if 'date' in art.keys():\n",
    "        date = art['date']\n",
    "    else:\n",
    "        date = \"\"\n",
    "        \n",
    "    if 'source' in art.keys() and 'title' in art['source'].keys():\n",
    "        source = art['source']['title']\n",
    "        source = source.replace(\",\", \" \").replace('\"', \" \").replace('\\r', ' ').replace('\\n', ' ')\n",
    "    else:\n",
    "        source = \"\"\n",
    "        \n",
    "    if 'lang' in art.keys():\n",
    "        lang = art['lang']\n",
    "    else:\n",
    "        lang = \"\"\n",
    "        \n",
    "    if 'categories' in art.keys():\n",
    "        cat = art['categories']\n",
    "        cat = cat.replace(\",\", \"//\").replace('\"', \" \").replace('\\r', ' ').replace('\\n', ' ')\n",
    "    else:\n",
    "        cat = \"\"\n",
    "        \n",
    "    if 'concepts' in art.keys():\n",
    "        concept = art['concepts']\n",
    "        concept = concept.replace(\",\", \"//\").replace('\"', \" \").replace('\\r', ' ').replace('\\n', ' ')\n",
    "    else:\n",
    "        concept = \"\"\n",
    "        \n",
    "    if 'sentiment' in art.keys():\n",
    "        sent = art['sentiment']\n",
    "    else:\n",
    "        sent = \"\"\n",
    "    \n",
    "    newline = [title, body, date, lang, source, cat, concept, sent, str(art['isDuplicate']), art['url'] ]\n",
    "    wr.writerow(newline)\n",
    "    ff.flush()\n",
    "    \n",
    "ff.close()\n",
    "print(\"Done!\")"
   ]
  }
 ],
 "metadata": {
  "kernelspec": {
   "display_name": "Python 3",
   "language": "python",
   "name": "python3"
  },
  "language_info": {
   "codemirror_mode": {
    "name": "ipython",
    "version": 3
   },
   "file_extension": ".py",
   "mimetype": "text/x-python",
   "name": "python",
   "nbconvert_exporter": "python",
   "pygments_lexer": "ipython3",
   "version": "3.7.3"
  }
 },
 "nbformat": 4,
 "nbformat_minor": 2
}
