{
 "cells": [
  {
   "cell_type": "markdown",
   "metadata": {},
   "source": [
    "## Graph Creation and Drawing with Networkx\n",
    "In general you can create:\n",
    "- Graph (undirected, no multi edges)\n",
    "- MultiGraph (undirected, multiple edges allowed betwenn a pair of nodes)\n",
    "and their directed versions, i.e. DiGraph and MultiDiGraph."
   ]
  },
  {
   "cell_type": "code",
   "execution_count": 1,
   "metadata": {},
   "outputs": [],
   "source": [
    "import networkx as nx"
   ]
  },
  {
   "cell_type": "markdown",
   "metadata": {},
   "source": [
    "#### Create and visualize a weighted DiGraph"
   ]
  },
  {
   "cell_type": "code",
   "execution_count": 5,
   "metadata": {},
   "outputs": [
    {
     "name": "stdout",
     "output_type": "stream",
     "text": [
      "[(1, 5, {'weight': 5}), (1, 2, {'weight': 6}), (2, 1, {'weight': 2}), (2, 6, {'weight': 5}), (2, 3, {'weight': 2}), (2, 4, {'weight': 2}), (3, 4, {'weight': 3}), (4, 3, {'weight': 5})]\n",
      "\n",
      "n = 6 m = 8 \n",
      "\n",
      "<class 'networkx.classes.digraph.DiGraph'>\n"
     ]
    },
    {
     "data": {
      "image/png": "[encoded data removed]",
      "text/plain": [
       "<Figure size 432x288 with 1 Axes>"
      ]
     },
     "metadata": {},
     "output_type": "display_data"
    }
   ],
   "source": [
    "#Toy network, weighted and directed\n",
    "G= nx.DiGraph()\n",
    "\n",
    "#Add weighted arcs\n",
    "G.add_edge(1,5, weight = 5)\n",
    "G.add_edge(1,2, weight = 6)\n",
    "G.add_edge(2,1, weight = 2)\n",
    "G.add_edge(2,6, weight = 5)\n",
    "G.add_edge(2,3, weight = 2)\n",
    "G.add_edge(2,4, weight = 2)\n",
    "G.add_edge(3,4, weight = 3)\n",
    "G.add_edge(4,3, weight = 5)\n",
    "\n",
    "#Inspect arc data and graph properties\n",
    "print(G.edges(data=True))\n",
    "print(\"\\nn =\", G.number_of_nodes(), \"m =\", G.number_of_edges(), \"\\n\")\n",
    "print(type(G))\n",
    "\n",
    "#Draw a basic version of the graph\n",
    "nx.draw(G)"
   ]
  },
  {
   "cell_type": "markdown",
   "metadata": {},
   "source": [
    "#### Generate Random Graphs"
   ]
  },
  {
   "cell_type": "code",
   "execution_count": null,
   "metadata": {},
   "outputs": [],
   "source": []
  },
  {
   "cell_type": "markdown",
   "metadata": {},
   "source": [
    "#### Improve Netowrk Visualization"
   ]
  },
  {
   "cell_type": "code",
   "execution_count": null,
   "metadata": {},
   "outputs": [],
   "source": []
  }
 ],
 "metadata": {
  "kernelspec": {
   "display_name": "Python 3",
   "language": "python",
   "name": "python3"
  },
  "language_info": {
   "codemirror_mode": {
    "name": "ipython",
    "version": 3
   },
   "file_extension": ".py",
   "mimetype": "text/x-python",
   "name": "python",
   "nbconvert_exporter": "python",
   "pygments_lexer": "ipython3",
   "version": "3.7.4"
  }
 },
 "nbformat": 4,
 "nbformat_minor": 2
}
